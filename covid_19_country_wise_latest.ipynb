{
 "cells": [
  {
   "cell_type": "code",
   "execution_count": 1,
   "id": "b6dad492-d746-458c-bc83-d83cf0e832bd",
   "metadata": {},
   "outputs": [],
   "source": [
    "import pandas as pd"
   ]
  },
  {
   "cell_type": "code",
   "execution_count": 2,
   "id": "b7834e7a-d5f0-47d5-a862-1e9ce3d82654",
   "metadata": {},
   "outputs": [],
   "source": [
    "import matplotlib.pyplot as plt"
   ]
  },
  {
   "cell_type": "code",
   "execution_count": 4,
   "id": "46646a9e-6621-4b9d-90cb-837e9ddd1bed",
   "metadata": {},
   "outputs": [],
   "source": [
    "data = pd.read_csv(\"covid_19.csv\")"
   ]
  },
  {
   "cell_type": "code",
   "execution_count": 5,
   "id": "392c698d-77e1-4ec6-a6be-9e668b78050e",
   "metadata": {},
   "outputs": [
    {
     "name": "stdout",
     "output_type": "stream",
     "text": [
      "   Unnamed: 0 Country/Region  Confirmed Deaths  Recovered  Active  New cases  \\\n",
      "0           0    Afghanistan      36263   1269      25198    9796      106.0   \n",
      "1           1        Albania       4880    144       2745    1991      117.0   \n",
      "2           2        Algeria      27973   1163      18837    7973      616.0   \n",
      "3           3        Andorra        907     52        803      52       10.0   \n",
      "4           4         Angola        950     41        242     667       18.0   \n",
      "\n",
      "   New deaths  New recovered  Deaths / 100 Cases  Recovered / 100 Cases  \\\n",
      "0        10.0             18                3.50                  69.49   \n",
      "1         6.0             63                2.95                  56.25   \n",
      "2         8.0            749                4.16                  67.34   \n",
      "3         0.0              0                5.73                  88.53   \n",
      "4         1.0              0                4.32                  25.47   \n",
      "\n",
      "   Deaths / 100 Recovered  Confirmed last week  1 week change  \\\n",
      "0                    5.04                35526            737   \n",
      "1                    5.25                 4171            709   \n",
      "2                    6.17                23691           4282   \n",
      "3                    6.48                  884             23   \n",
      "4                   16.94                  749            201   \n",
      "\n",
      "   1 week % increase             WHO Region  \n",
      "0               2.07  Eastern Mediterranean  \n",
      "1              17.00                 Europe  \n",
      "2              18.07                 Africa  \n",
      "3               2.60                 Europe  \n",
      "4              26.84                 Africa  \n"
     ]
    }
   ],
   "source": [
    "print(data.head())"
   ]
  },
  {
   "cell_type": "code",
   "execution_count": 6,
   "id": "02fe06e7-cbbf-49d7-be61-2fc5bd2bc70d",
   "metadata": {},
   "outputs": [],
   "source": [
    "data.set_index(\"Unnamed: 0\", inplace=True)\n",
    "\n",
    "data.index.name = \"index\""
   ]
  },
  {
   "cell_type": "code",
   "execution_count": 7,
   "id": "5165dc93-4dd3-46b8-8410-c37b934326b5",
   "metadata": {},
   "outputs": [
    {
     "data": {
      "text/html": [
       "<div>\n",
       "<style scoped>\n",
       "    .dataframe tbody tr th:only-of-type {\n",
       "        vertical-align: middle;\n",
       "    }\n",
       "\n",
       "    .dataframe tbody tr th {\n",
       "        vertical-align: top;\n",
       "    }\n",
       "\n",
       "    .dataframe thead th {\n",
       "        text-align: right;\n",
       "    }\n",
       "</style>\n",
       "<table border=\"1\" class=\"dataframe\">\n",
       "  <thead>\n",
       "    <tr style=\"text-align: right;\">\n",
       "      <th></th>\n",
       "      <th>Country/Region</th>\n",
       "      <th>Confirmed</th>\n",
       "      <th>Deaths</th>\n",
       "      <th>Recovered</th>\n",
       "      <th>Active</th>\n",
       "      <th>New cases</th>\n",
       "      <th>New deaths</th>\n",
       "      <th>New recovered</th>\n",
       "      <th>Deaths / 100 Cases</th>\n",
       "      <th>Recovered / 100 Cases</th>\n",
       "      <th>Deaths / 100 Recovered</th>\n",
       "      <th>Confirmed last week</th>\n",
       "      <th>1 week change</th>\n",
       "      <th>1 week % increase</th>\n",
       "      <th>WHO Region</th>\n",
       "    </tr>\n",
       "    <tr>\n",
       "      <th>index</th>\n",
       "      <th></th>\n",
       "      <th></th>\n",
       "      <th></th>\n",
       "      <th></th>\n",
       "      <th></th>\n",
       "      <th></th>\n",
       "      <th></th>\n",
       "      <th></th>\n",
       "      <th></th>\n",
       "      <th></th>\n",
       "      <th></th>\n",
       "      <th></th>\n",
       "      <th></th>\n",
       "      <th></th>\n",
       "      <th></th>\n",
       "    </tr>\n",
       "  </thead>\n",
       "  <tbody>\n",
       "    <tr>\n",
       "      <th>0</th>\n",
       "      <td>Afghanistan</td>\n",
       "      <td>36263</td>\n",
       "      <td>1269</td>\n",
       "      <td>25198</td>\n",
       "      <td>9796</td>\n",
       "      <td>106.0</td>\n",
       "      <td>10.0</td>\n",
       "      <td>18</td>\n",
       "      <td>3.50</td>\n",
       "      <td>69.49</td>\n",
       "      <td>5.04</td>\n",
       "      <td>35526</td>\n",
       "      <td>737</td>\n",
       "      <td>2.07</td>\n",
       "      <td>Eastern Mediterranean</td>\n",
       "    </tr>\n",
       "    <tr>\n",
       "      <th>1</th>\n",
       "      <td>Albania</td>\n",
       "      <td>4880</td>\n",
       "      <td>144</td>\n",
       "      <td>2745</td>\n",
       "      <td>1991</td>\n",
       "      <td>117.0</td>\n",
       "      <td>6.0</td>\n",
       "      <td>63</td>\n",
       "      <td>2.95</td>\n",
       "      <td>56.25</td>\n",
       "      <td>5.25</td>\n",
       "      <td>4171</td>\n",
       "      <td>709</td>\n",
       "      <td>17.00</td>\n",
       "      <td>Europe</td>\n",
       "    </tr>\n",
       "    <tr>\n",
       "      <th>2</th>\n",
       "      <td>Algeria</td>\n",
       "      <td>27973</td>\n",
       "      <td>1163</td>\n",
       "      <td>18837</td>\n",
       "      <td>7973</td>\n",
       "      <td>616.0</td>\n",
       "      <td>8.0</td>\n",
       "      <td>749</td>\n",
       "      <td>4.16</td>\n",
       "      <td>67.34</td>\n",
       "      <td>6.17</td>\n",
       "      <td>23691</td>\n",
       "      <td>4282</td>\n",
       "      <td>18.07</td>\n",
       "      <td>Africa</td>\n",
       "    </tr>\n",
       "    <tr>\n",
       "      <th>3</th>\n",
       "      <td>Andorra</td>\n",
       "      <td>907</td>\n",
       "      <td>52</td>\n",
       "      <td>803</td>\n",
       "      <td>52</td>\n",
       "      <td>10.0</td>\n",
       "      <td>0.0</td>\n",
       "      <td>0</td>\n",
       "      <td>5.73</td>\n",
       "      <td>88.53</td>\n",
       "      <td>6.48</td>\n",
       "      <td>884</td>\n",
       "      <td>23</td>\n",
       "      <td>2.60</td>\n",
       "      <td>Europe</td>\n",
       "    </tr>\n",
       "    <tr>\n",
       "      <th>4</th>\n",
       "      <td>Angola</td>\n",
       "      <td>950</td>\n",
       "      <td>41</td>\n",
       "      <td>242</td>\n",
       "      <td>667</td>\n",
       "      <td>18.0</td>\n",
       "      <td>1.0</td>\n",
       "      <td>0</td>\n",
       "      <td>4.32</td>\n",
       "      <td>25.47</td>\n",
       "      <td>16.94</td>\n",
       "      <td>749</td>\n",
       "      <td>201</td>\n",
       "      <td>26.84</td>\n",
       "      <td>Africa</td>\n",
       "    </tr>\n",
       "    <tr>\n",
       "      <th>...</th>\n",
       "      <td>...</td>\n",
       "      <td>...</td>\n",
       "      <td>...</td>\n",
       "      <td>...</td>\n",
       "      <td>...</td>\n",
       "      <td>...</td>\n",
       "      <td>...</td>\n",
       "      <td>...</td>\n",
       "      <td>...</td>\n",
       "      <td>...</td>\n",
       "      <td>...</td>\n",
       "      <td>...</td>\n",
       "      <td>...</td>\n",
       "      <td>...</td>\n",
       "      <td>...</td>\n",
       "    </tr>\n",
       "    <tr>\n",
       "      <th>182</th>\n",
       "      <td>West Bank and Gaza</td>\n",
       "      <td>10621</td>\n",
       "      <td>78</td>\n",
       "      <td>3752</td>\n",
       "      <td>6791</td>\n",
       "      <td>152.0</td>\n",
       "      <td>2.0</td>\n",
       "      <td>0</td>\n",
       "      <td>0.73</td>\n",
       "      <td>35.33</td>\n",
       "      <td>2.08</td>\n",
       "      <td>8916</td>\n",
       "      <td>1705</td>\n",
       "      <td>19.12</td>\n",
       "      <td>Eastern Mediterranean</td>\n",
       "    </tr>\n",
       "    <tr>\n",
       "      <th>183</th>\n",
       "      <td>Western Sahara</td>\n",
       "      <td>10</td>\n",
       "      <td>1</td>\n",
       "      <td>8</td>\n",
       "      <td>1</td>\n",
       "      <td>0.0</td>\n",
       "      <td>0.0</td>\n",
       "      <td>0</td>\n",
       "      <td>10.00</td>\n",
       "      <td>80.00</td>\n",
       "      <td>12.50</td>\n",
       "      <td>10</td>\n",
       "      <td>0</td>\n",
       "      <td>0.00</td>\n",
       "      <td>Africa</td>\n",
       "    </tr>\n",
       "    <tr>\n",
       "      <th>184</th>\n",
       "      <td>Yemen</td>\n",
       "      <td>1691</td>\n",
       "      <td>483</td>\n",
       "      <td>833</td>\n",
       "      <td>375</td>\n",
       "      <td>10.0</td>\n",
       "      <td>4.0</td>\n",
       "      <td>36</td>\n",
       "      <td>28.56</td>\n",
       "      <td>49.26</td>\n",
       "      <td>57.98</td>\n",
       "      <td>1619</td>\n",
       "      <td>72</td>\n",
       "      <td>4.45</td>\n",
       "      <td>Eastern Mediterranean</td>\n",
       "    </tr>\n",
       "    <tr>\n",
       "      <th>185</th>\n",
       "      <td>Zambia</td>\n",
       "      <td>4552</td>\n",
       "      <td>140</td>\n",
       "      <td>2815</td>\n",
       "      <td>1597</td>\n",
       "      <td>71.0</td>\n",
       "      <td>1.0</td>\n",
       "      <td>465</td>\n",
       "      <td>3.08</td>\n",
       "      <td>61.84</td>\n",
       "      <td>4.97</td>\n",
       "      <td>3326</td>\n",
       "      <td>1226</td>\n",
       "      <td>36.86</td>\n",
       "      <td>Africa</td>\n",
       "    </tr>\n",
       "    <tr>\n",
       "      <th>186</th>\n",
       "      <td>Zimbabwe</td>\n",
       "      <td>2704</td>\n",
       "      <td>non</td>\n",
       "      <td>542</td>\n",
       "      <td>2126</td>\n",
       "      <td>192.0</td>\n",
       "      <td>2.0</td>\n",
       "      <td>24</td>\n",
       "      <td>1.33</td>\n",
       "      <td>20.04</td>\n",
       "      <td>6.64</td>\n",
       "      <td>1713</td>\n",
       "      <td>991</td>\n",
       "      <td>57.85</td>\n",
       "      <td>Africa</td>\n",
       "    </tr>\n",
       "  </tbody>\n",
       "</table>\n",
       "<p>187 rows × 15 columns</p>\n",
       "</div>"
      ],
      "text/plain": [
       "           Country/Region  Confirmed Deaths  Recovered  Active  New cases  \\\n",
       "index                                                                       \n",
       "0             Afghanistan      36263   1269      25198    9796      106.0   \n",
       "1                 Albania       4880    144       2745    1991      117.0   \n",
       "2                 Algeria      27973   1163      18837    7973      616.0   \n",
       "3                 Andorra        907     52        803      52       10.0   \n",
       "4                  Angola        950     41        242     667       18.0   \n",
       "...                   ...        ...    ...        ...     ...        ...   \n",
       "182    West Bank and Gaza      10621     78       3752    6791      152.0   \n",
       "183        Western Sahara         10      1          8       1        0.0   \n",
       "184                 Yemen       1691    483        833     375       10.0   \n",
       "185                Zambia       4552    140       2815    1597       71.0   \n",
       "186              Zimbabwe       2704    non        542    2126      192.0   \n",
       "\n",
       "       New deaths  New recovered  Deaths / 100 Cases  Recovered / 100 Cases  \\\n",
       "index                                                                         \n",
       "0            10.0             18                3.50                  69.49   \n",
       "1             6.0             63                2.95                  56.25   \n",
       "2             8.0            749                4.16                  67.34   \n",
       "3             0.0              0                5.73                  88.53   \n",
       "4             1.0              0                4.32                  25.47   \n",
       "...           ...            ...                 ...                    ...   \n",
       "182           2.0              0                0.73                  35.33   \n",
       "183           0.0              0               10.00                  80.00   \n",
       "184           4.0             36               28.56                  49.26   \n",
       "185           1.0            465                3.08                  61.84   \n",
       "186           2.0             24                1.33                  20.04   \n",
       "\n",
       "       Deaths / 100 Recovered  Confirmed last week  1 week change  \\\n",
       "index                                                               \n",
       "0                        5.04                35526            737   \n",
       "1                        5.25                 4171            709   \n",
       "2                        6.17                23691           4282   \n",
       "3                        6.48                  884             23   \n",
       "4                       16.94                  749            201   \n",
       "...                       ...                  ...            ...   \n",
       "182                      2.08                 8916           1705   \n",
       "183                     12.50                   10              0   \n",
       "184                     57.98                 1619             72   \n",
       "185                      4.97                 3326           1226   \n",
       "186                      6.64                 1713            991   \n",
       "\n",
       "       1 week % increase             WHO Region  \n",
       "index                                            \n",
       "0                   2.07  Eastern Mediterranean  \n",
       "1                  17.00                 Europe  \n",
       "2                  18.07                 Africa  \n",
       "3                   2.60                 Europe  \n",
       "4                  26.84                 Africa  \n",
       "...                  ...                    ...  \n",
       "182                19.12  Eastern Mediterranean  \n",
       "183                 0.00                 Africa  \n",
       "184                 4.45  Eastern Mediterranean  \n",
       "185                36.86                 Africa  \n",
       "186                57.85                 Africa  \n",
       "\n",
       "[187 rows x 15 columns]"
      ]
     },
     "execution_count": 7,
     "metadata": {},
     "output_type": "execute_result"
    }
   ],
   "source": [
    "data"
   ]
  },
  {
   "cell_type": "code",
   "execution_count": 8,
   "id": "3b439750-5845-44ab-b99c-7227953edf6f",
   "metadata": {},
   "outputs": [],
   "source": [
    "def clean_column_names(data):\n",
    "    data.columns = data.columns.str.replace(\" \", \"_\", regex=True)\n",
    "    return data\n",
    "\n",
    "data = clean_column_names(data)"
   ]
  },
  {
   "cell_type": "code",
   "execution_count": 9,
   "id": "68ca9b1c-e64f-4d31-909c-f522f28096f2",
   "metadata": {},
   "outputs": [
    {
     "name": "stdout",
     "output_type": "stream",
     "text": [
      "Column Names: Index(['Country/Region', 'Confirmed', 'Deaths', 'Recovered', 'Active',\n",
      "       'New_cases', 'New_deaths', 'New_recovered', 'Deaths_/_100_Cases',\n",
      "       'Recovered_/_100_Cases', 'Deaths_/_100_Recovered',\n",
      "       'Confirmed_last_week', '1_week_change', '1_week_%_increase',\n",
      "       'WHO_Region'],\n",
      "      dtype='object')\n",
      "Data Types: Country/Region             object\n",
      "Confirmed                   int64\n",
      "Deaths                     object\n",
      "Recovered                   int64\n",
      "Active                      int64\n",
      "New_cases                 float64\n",
      "New_deaths                float64\n",
      "New_recovered               int64\n",
      "Deaths_/_100_Cases        float64\n",
      "Recovered_/_100_Cases     float64\n",
      "Deaths_/_100_Recovered    float64\n",
      "Confirmed_last_week         int64\n",
      "1_week_change               int64\n",
      "1_week_%_increase         float64\n",
      "WHO_Region                 object\n",
      "dtype: object\n",
      "Missing Values:\n",
      "Country/Region             0\n",
      "Confirmed                  0\n",
      "Deaths                     0\n",
      "Recovered                  0\n",
      "Active                     0\n",
      "New_cases                 10\n",
      "New_deaths                10\n",
      "New_recovered              0\n",
      "Deaths_/_100_Cases         0\n",
      "Recovered_/_100_Cases      0\n",
      "Deaths_/_100_Recovered     0\n",
      "Confirmed_last_week        0\n",
      "1_week_change              0\n",
      "1_week_%_increase          0\n",
      "WHO_Region                 0\n",
      "dtype: int64\n"
     ]
    }
   ],
   "source": [
    "print(\"Column Names:\", data.columns)\n",
    "print(\"Data Types:\", data.dtypes)\n",
    "print(\"Missing Values:\")\n",
    "print(data.isnull().sum())"
   ]
  },
  {
   "cell_type": "code",
   "execution_count": 10,
   "id": "18272969-ac7f-4778-9c56-b75535ea646e",
   "metadata": {},
   "outputs": [],
   "source": [
    "data.fillna(data.mean(numeric_only=True), inplace=True)"
   ]
  },
  {
   "cell_type": "code",
   "execution_count": 11,
   "id": "050b78c6-030f-465c-916a-ef7dcaa5b5bc",
   "metadata": {},
   "outputs": [
    {
     "name": "stdout",
     "output_type": "stream",
     "text": [
      "Number of unique countries: 187\n"
     ]
    }
   ],
   "source": [
    "unique_countries = data['Country/Region'].nunique()\n",
    "print(\"Number of unique countries:\", unique_countries)"
   ]
  },
  {
   "cell_type": "code",
   "execution_count": 12,
   "id": "5fb225d2-5314-4ad6-a582-f8fab1929d90",
   "metadata": {},
   "outputs": [],
   "source": [
    "data.drop_duplicates(subset=['Country/Region'], inplace=True)"
   ]
  },
  {
   "cell_type": "code",
   "execution_count": 13,
   "id": "ddc2d4e1-23dc-4a16-a923-f71f57377f39",
   "metadata": {},
   "outputs": [
    {
     "name": "stdout",
     "output_type": "stream",
     "text": [
      "Mean of Total Cases: 88130.935828877\n",
      "Median of Total Cases: 5059.0\n",
      "Standard Deviation of Total Cases: 383318.66383061546\n"
     ]
    }
   ],
   "source": [
    "print(\"Mean of Total Cases:\", data['Confirmed'].mean())\n",
    "print(\"Median of Total Cases:\", data['Confirmed'].median())\n",
    "print(\"Standard Deviation of Total Cases:\", data['Confirmed'].std())"
   ]
  },
  {
   "cell_type": "code",
   "execution_count": 14,
   "id": "cb9d6307-9ab4-4aea-876e-0e0c165e2c07",
   "metadata": {},
   "outputs": [
    {
     "name": "stderr",
     "output_type": "stream",
     "text": [
      "C:\\Users\\Zubair\\AppData\\Local\\Temp\\ipykernel_3624\\1579003394.py:2: FutureWarning: A value is trying to be set on a copy of a DataFrame or Series through chained assignment using an inplace method.\n",
      "The behavior will change in pandas 3.0. This inplace method will never work because the intermediate object on which we are setting values always behaves as a copy.\n",
      "\n",
      "For example, when doing 'df[col].method(value, inplace=True)', try using 'df.method({col: value}, inplace=True)' or df[col] = df[col].method(value) instead, to perform the operation inplace on the original object.\n",
      "\n",
      "\n",
      "  data['Deaths'].fillna(data['Deaths'].mean(), inplace=True)\n"
     ]
    }
   ],
   "source": [
    "data['Deaths'] = pd.to_numeric(data['Deaths'], errors='coerce')\n",
    "data['Deaths'].fillna(data['Deaths'].mean(), inplace=True)"
   ]
  },
  {
   "cell_type": "code",
   "execution_count": 15,
   "id": "47ff5053-86ed-40b7-a357-31da89dbb0a5",
   "metadata": {},
   "outputs": [],
   "source": [
    "data['Deaths'] = data['Deaths'].astype(int)"
   ]
  },
  {
   "cell_type": "code",
   "execution_count": 16,
   "id": "6455756b-b159-4276-94ce-8e88e18c781b",
   "metadata": {},
   "outputs": [
    {
     "name": "stdout",
     "output_type": "stream",
     "text": [
      "Total Deaths: 657516\n",
      "Total Recovered: 9468087\n"
     ]
    }
   ],
   "source": [
    "total_deaths = data['Deaths'].sum()\n",
    "total_recovered = data['Recovered'].sum()\n",
    "print(\"Total Deaths:\", total_deaths)\n",
    "print(\"Total Recovered:\", total_recovered)"
   ]
  },
  {
   "cell_type": "code",
   "execution_count": 17,
   "id": "172b7b85-0943-4bf7-a150-68e552c37f7f",
   "metadata": {},
   "outputs": [
    {
     "name": "stdout",
     "output_type": "stream",
     "text": [
      "Countries with more than 1 million cases:\n",
      "      Country/Region  Confirmed\n",
      "index                          \n",
      "23            Brazil    2442375\n",
      "79             India    1480073\n",
      "173               US    4290259\n"
     ]
    }
   ],
   "source": [
    "high_case_countries = data[data['Confirmed'] > 1_000_000]\n",
    "print(\"Countries with more than 1 million cases:\")\n",
    "print(high_case_countries[['Country/Region', 'Confirmed']])"
   ]
  },
  {
   "cell_type": "code",
   "execution_count": 18,
   "id": "fe8b99bb-2997-457d-8ad1-751fd1f78119",
   "metadata": {},
   "outputs": [
    {
     "name": "stdout",
     "output_type": "stream",
     "text": [
      "Countries with Recovery Rate above 95%:\n",
      "      Country/Region  Recovery_Rate\n",
      "index                              \n",
      "24            Brunei       0.978723\n",
      "48          Djibouti       0.983791\n",
      "49          Dominica       1.000000\n",
      "69           Grenada       1.000000\n",
      "75          Holy See       1.000000\n",
      "78           Iceland       0.983279\n",
      "105         Malaysia       0.965970\n",
      "110        Mauritius       0.965116\n",
      "121      New Zealand       0.972383\n",
      "126           Norway       0.958388\n",
      "136            Qatar       0.970173\n",
      "164          Taiwan*       0.952381\n"
     ]
    }
   ],
   "source": [
    "data['Recovery_Rate'] = data['Recovered'] / data['Confirmed']\n",
    "high_recovery_countries = data[data['Recovery_Rate'] > 0.95]\n",
    "print(\"Countries with Recovery Rate above 95%:\")\n",
    "print(high_recovery_countries[['Country/Region', 'Recovery_Rate']])"
   ]
  },
  {
   "cell_type": "code",
   "execution_count": 19,
   "id": "c1a0d8a4-4554-41f6-a5c1-f8ed9b9682aa",
   "metadata": {},
   "outputs": [],
   "source": [
    "if 'WHO_Region' in data.columns and 'Confirmed' in data.columns:\n",
    "    data.drop(columns=['WHO_Region', 'Confirmed'], inplace=True)"
   ]
  },
  {
   "cell_type": "code",
   "execution_count": 20,
   "id": "3de9b045-bcdb-41c5-bd5a-4173f71091a3",
   "metadata": {},
   "outputs": [
    {
     "name": "stdout",
     "output_type": "stream",
     "text": [
      "Country with Max Deaths: US\n"
     ]
    }
   ],
   "source": [
    "max_death_country = data.loc[data['Deaths'].idxmax(), 'Country/Region']\n",
    "print(\"Country with Max Deaths:\", max_death_country)"
   ]
  },
  {
   "cell_type": "code",
   "execution_count": 21,
   "id": "272ca031-1d06-4af8-a9d8-ed3a537159a1",
   "metadata": {},
   "outputs": [],
   "source": [
    "data_sorted = data.sort_values(by='Deaths', ascending=False)"
   ]
  },
  {
   "cell_type": "code",
   "execution_count": 22,
   "id": "491060be-eb2b-4067-8f19-9a47b60f1f75",
   "metadata": {},
   "outputs": [],
   "source": [
    "data['Total_cases'] = data['Deaths'] + data['Recovered'] + data['Active']"
   ]
  },
  {
   "cell_type": "code",
   "execution_count": 23,
   "id": "360e0d80-ae80-40d2-92fc-48910beced70",
   "metadata": {},
   "outputs": [],
   "source": [
    "data['Death_Rate'] = (data['Deaths'] / data['Total_cases']) * 100"
   ]
  },
  {
   "cell_type": "code",
   "execution_count": 24,
   "id": "2c0bc20d-124f-44e6-9f05-4a89281fd51b",
   "metadata": {},
   "outputs": [
    {
     "name": "stdout",
     "output_type": "stream",
     "text": [
      "Countries where cases increase but death rate remains low:\n",
      "             Country/Region  1_week_change  Death_Rate\n",
      "index                                                 \n",
      "6                 Argentina          36642    1.827185\n",
      "7                   Armenia           2409    1.901578\n",
      "8                 Australia           2875    1.091289\n",
      "10               Azerbaijan           2556    1.389345\n",
      "12                  Bahrain           2546    0.357125\n",
      "...                     ...            ...         ...\n",
      "176    United Arab Emirates           1984    0.582997\n",
      "179              Uzbekistan           4060    0.570513\n",
      "180               Venezuela           3654    0.913185\n",
      "181                 Vietnam             47    0.000000\n",
      "182      West Bank and Gaza           1705    0.734394\n",
      "\n",
      "[78 rows x 3 columns]\n"
     ]
    }
   ],
   "source": [
    "if '1_week_change' in data.columns:\n",
    "    increasing_cases_low_death_rate = data[(data['1_week_change'] > 0) & (data['Death_Rate'] < 2)]\n",
    "    print(\"Countries where cases increase but death rate remains low:\")\n",
    "    print(increasing_cases_low_death_rate[['Country/Region', '1_week_change', 'Death_Rate']])"
   ]
  },
  {
   "cell_type": "code",
   "execution_count": 25,
   "id": "318eb808-5805-4475-8add-c3b47cb49064",
   "metadata": {},
   "outputs": [
    {
     "name": "stdout",
     "output_type": "stream",
     "text": [
      "      Country/Region  Death_Rate\n",
      "index                           \n",
      "0        Afghanistan    3.499435\n",
      "1            Albania    2.950820\n",
      "2            Algeria    4.157581\n",
      "3            Andorra    5.733186\n",
      "4             Angola    4.315789\n"
     ]
    }
   ],
   "source": [
    "print(data[['Country/Region', 'Death_Rate']].head())"
   ]
  },
  {
   "cell_type": "code",
   "execution_count": 26,
   "id": "f42b95de-db15-4bfe-93c0-3cd31f5d2921",
   "metadata": {},
   "outputs": [
    {
     "data": {
      "image/png": "[encoded data removed]",
      "text/plain": [
       "<Figure size 640x480 with 1 Axes>"
      ]
     },
     "metadata": {},
     "output_type": "display_data"
    }
   ],
   "source": [
    "plt.scatter(data['Total_cases'], data['Deaths'], alpha=0.5)\n",
    "plt.xscale(\"log\")\n",
    "plt.yscale(\"log\")\n",
    "plt.xlabel('Total Cases (Log Scale)')\n",
    "plt.ylabel('Total Deaths (Log Scale)')\n",
    "plt.title('Scatter Plot: Total Cases vs Total Deaths')\n",
    "plt.show()"
   ]
  },
  {
   "cell_type": "code",
   "execution_count": null,
   "id": "bc147b67-f165-4c8e-a461-e5ea3fb12a36",
   "metadata": {},
   "outputs": [],
   "source": [
    "data.to_csv(\"covid_19_country_wise_latest.csv\", index=False, encoding='utf-8')\n",
    "print(\"covid_19_country_wise_latest saved as 'covid_19_country_wise_latest.csv'\")"
   ]
  },
  {
   "cell_type": "code",
   "execution_count": null,
   "id": "652a8423-0e3f-4005-bd79-5f1509105530",
   "metadata": {},
   "outputs": [],
   "source": []
  }
 ],
 "metadata": {
  "kernelspec": {
   "display_name": "Python 3 (ipykernel)",
   "language": "python",
   "name": "python3"
  },
  "language_info": {
   "codemirror_mode": {
    "name": "ipython",
    "version": 3
   },
   "file_extension": ".py",
   "mimetype": "text/x-python",
   "name": "python",
   "nbconvert_exporter": "python",
   "pygments_lexer": "ipython3",
   "version": "3.12.7"
  }
 },
 "nbformat": 4,
 "nbformat_minor": 5
}
