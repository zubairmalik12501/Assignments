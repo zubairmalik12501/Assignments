{
 "cells": [
  {
   "cell_type": "markdown",
   "id": "ae0e1c13-3e15-4461-b3ce-6f24ed02792d",
   "metadata": {},
   "source": [
    "# OOP Assignment "
   ]
  },
  {
   "cell_type": "markdown",
   "id": "29463697-082e-4f65-8333-19e462280daa",
   "metadata": {},
   "source": [
    "1. Write a Python program to create a class called \"Person\" with properties for\n",
    "name, age and country. Include a method to display the person's details. Create\n",
    "two instances of the 'Person' class and display their details."
   ]
  },
  {
   "cell_type": "code",
   "execution_count": 1,
   "id": "fbff7321-91a0-4ee9-b6b4-fdb5e60c3d2b",
   "metadata": {},
   "outputs": [
    {
     "name": "stdout",
     "output_type": "stream",
     "text": [
      "Details of Person 1:\n",
      "Name: Alice\n",
      "Age: 30\n",
      "Country: USA\n",
      "--------------------\n",
      "Details of Person 2:\n",
      "Name: Bob\n",
      "Age: 25\n",
      "Country: Canada\n",
      "--------------------\n"
     ]
    }
   ],
   "source": [
    "class Person:\n",
    "    def __init__(self, name, age, country):\n",
    "        \"\"\"Initialize the Person class with name, age, and country.\"\"\"\n",
    "        self.name = name\n",
    "        self.age = age\n",
    "        self.country = country\n",
    "\n",
    "    def display_details(self):\n",
    "        \"\"\"Display the details of the person.\"\"\"\n",
    "        print(f\"Name: {self.name}\")\n",
    "        print(f\"Age: {self.age}\")\n",
    "        print(f\"Country: {self.country}\")\n",
    "        print(\"-\" * 20)\n",
    "\n",
    "\n",
    "person1 = Person(\"Alice\", 30, \"USA\")\n",
    "person2 = Person(\"Bob\", 25, \"Canada\")\n",
    "\n",
    "print(\"Details of Person 1:\")\n",
    "person1.display_details()\n",
    "\n",
    "print(\"Details of Person 2:\")\n",
    "person2.display_details()\n"
   ]
  },
  {
   "cell_type": "markdown",
   "id": "d03950e7-095e-4781-9318-5c390f423ec9",
   "metadata": {},
   "source": [
    "2. Write a Python program to create a class called 'Rectangle' with properties for\n",
    "width and height. Include two methods to calculate rectangle area and perimeter.\n",
    "Create an instance of the 'Rectangle' class and calculate its area and perimeter. \n"
   ]
  },
  {
   "cell_type": "code",
   "execution_count": 2,
   "id": "d1424a24-30f6-4e1c-b7bf-6012091867fa",
   "metadata": {},
   "outputs": [
    {
     "name": "stdout",
     "output_type": "stream",
     "text": [
      "Rectangle Details:\n",
      "Width: 5\n",
      "Height: 10\n",
      "Area: 50\n",
      "Perimeter: 30\n"
     ]
    }
   ],
   "source": [
    "class Rectangle:\n",
    "    def __init__(self, width, height):\n",
    "        \"\"\"Initialize the Rectangle class with width and height.\"\"\"\n",
    "        self.width = width\n",
    "        self.height = height\n",
    "\n",
    "    def calculate_area(self):\n",
    "        \"\"\"Calculate and return the area of the rectangle.\"\"\"\n",
    "        return self.width * self.height\n",
    "\n",
    "    def calculate_perimeter(self):\n",
    "        \"\"\"Calculate and return the perimeter of the rectangle.\"\"\"\n",
    "        return 2 * (self.width + self.height)\n",
    "\n",
    "\n",
    "rectangle = Rectangle(5, 10)\n",
    "\n",
    "print(\"Rectangle Details:\")\n",
    "print(f\"Width: {rectangle.width}\")\n",
    "print(f\"Height: {rectangle.height}\")\n",
    "print(f\"Area: {rectangle.calculate_area()}\")\n",
    "print(f\"Perimeter: {rectangle.calculate_perimeter()}\")\n"
   ]
  },
  {
   "cell_type": "markdown",
   "id": "1e1a97b0-b470-4a92-872b-84c88fbe0902",
   "metadata": {},
   "source": [
    "3. Write a Python program that creates a class called 'Vehicle' with properties for\n",
    "make, model, and year. Include a method to display vehicle details. Create a\n",
    "subclass called 'Car' that inherits from the 'Vehicle' class and includes an\n",
    "additional property for the number of doors. Override the display method to\n",
    "include the number of doors. \n"
   ]
  },
  {
   "cell_type": "code",
   "execution_count": 7,
   "id": "c89e069d-2d4d-4183-bbf6-f9c25fa8c4eb",
   "metadata": {},
   "outputs": [
    {
     "name": "stdout",
     "output_type": "stream",
     "text": [
      "Car Details:\n",
      "Make: Honda\n",
      "Model: Civic\n",
      "Year: 2021\n",
      "Number of Doors: 4\n"
     ]
    }
   ],
   "source": [
    "class Vehicle:\n",
    "    def __init__(self, make, model, year):\n",
    "        \"\"\"Initialize the Vehicle class with make, model, and year.\"\"\"\n",
    "        self.make = make\n",
    "        self.model = model\n",
    "        self.year = year\n",
    "\n",
    "    def display_details(self):\n",
    "        \"\"\"Display the details of the vehicle.\"\"\"\n",
    "        print(f\"Make: {self.make}\")\n",
    "        print(f\"Model: {self.model}\")\n",
    "        print(f\"Year: {self.year}\")\n",
    "\n",
    "\n",
    "class Car(Vehicle):\n",
    "    def __init__(self, make, model, year, doors):\n",
    "        \"\"\"Initialize the Car class with make, model, year, and doors.\"\"\"\n",
    "        super().__init__(make, model, year) \n",
    "        self.doors = doors\n",
    "\n",
    "    def display_details(self):\n",
    "        \"\"\"Display the details of the car, including the number of doors.\"\"\"\n",
    "        super().display_details()  \n",
    "        print(f\"Number of Doors: {self.doors}\")\n",
    "\n",
    "\n",
    "my_car = Car(\"Honda\", \"Civic\", 2021, 4)\n",
    "\n",
    "print(\"Car Details:\")\n",
    "my_car.display_details()\n"
   ]
  },
  {
   "cell_type": "markdown",
   "id": "23deeb38-a491-42dd-a2b0-b13d7c4db6a5",
   "metadata": {},
   "source": [
    "4. Write a Python program that creates a class called \"BankAccount\" with\n",
    "properties for account number and balance. Include methods to deposit and\n",
    "withdraw money from the account. Create some instances of the \"BankAccount\"\n",
    "class, deposit some money, and withdraw a portion of it. \n"
   ]
  },
  {
   "cell_type": "code",
   "execution_count": 8,
   "id": "11bb253e-d2d2-4600-ad9d-bb2316c6e5ad",
   "metadata": {},
   "outputs": [
    {
     "name": "stdout",
     "output_type": "stream",
     "text": [
      "Account 1:\n",
      "Account Number: 123456789\n",
      "Current Balance: $500.00\n",
      "Deposited: $200.00\n",
      "Withdrawn: $150.00\n",
      "Account Number: 123456789\n",
      "Current Balance: $550.00\n",
      "\n",
      "Account 2:\n",
      "Account Number: 987654321\n",
      "Current Balance: $1000.00\n",
      "Deposited: $500.00\n",
      "Insufficient funds.\n",
      "Withdrawn: $300.00\n",
      "Account Number: 987654321\n",
      "Current Balance: $1200.00\n"
     ]
    }
   ],
   "source": [
    "class BankAccount:\n",
    "    def __init__(self, account_number, balance=0):\n",
    "        \"\"\"Initialize the BankAccount class with account number and balance.\"\"\"\n",
    "        self.account_number = account_number\n",
    "        self.balance = balance\n",
    "\n",
    "    def deposit(self, amount):\n",
    "        \"\"\"Deposit money into the account.\"\"\"\n",
    "        if amount > 0:\n",
    "            self.balance += amount\n",
    "            print(f\"Deposited: ${amount:.2f}\")\n",
    "        else:\n",
    "            print(\"Deposit amount must be positive.\")\n",
    "\n",
    "    def withdraw(self, amount):\n",
    "        \"\"\"Withdraw money from the account.\"\"\"\n",
    "        if 0 < amount <= self.balance:\n",
    "            self.balance -= amount\n",
    "            print(f\"Withdrawn: ${amount:.2f}\")\n",
    "        elif amount > self.balance:\n",
    "            print(\"Insufficient funds.\")\n",
    "        else:\n",
    "            print(\"Withdrawal amount must be positive.\")\n",
    "\n",
    "    def display_balance(self):\n",
    "        \"\"\"Display the current account balance.\"\"\"\n",
    "        print(f\"Account Number: {self.account_number}\")\n",
    "        print(f\"Current Balance: ${self.balance:.2f}\")\n",
    "\n",
    "account1 = BankAccount(\"123456789\", 500)\n",
    "account2 = BankAccount(\"987654321\", 1000)\n",
    "\n",
    "print(\"Account 1:\")\n",
    "account1.display_balance()\n",
    "account1.deposit(200)\n",
    "account1.withdraw(150)\n",
    "account1.display_balance()\n",
    "\n",
    "print(\"\\nAccount 2:\")\n",
    "account2.display_balance()\n",
    "account2.deposit(500)\n",
    "account2.withdraw(2000)  \n",
    "account2.withdraw(300)\n",
    "account2.display_balance()\n"
   ]
  },
  {
   "cell_type": "markdown",
   "id": "25cbf511-ffa7-4b52-a865-1ad79a7b306c",
   "metadata": {},
   "source": [
    "5. Write a Python program that creates a class called 'Shape' with a method to\n",
    "calculate the area. Create two subclasses, 'Circle' and 'Triangle', that inherit from\n",
    "the 'Shape' class and override the area calculation method. Create an instance of\n",
    "the 'Circle' class and calculate its area. Similarly, do the same for the 'Triangle'\n",
    "class. \n"
   ]
  },
  {
   "cell_type": "code",
   "execution_count": 4,
   "id": "a765e737-c583-47c3-89ae-a11f240360dd",
   "metadata": {},
   "outputs": [
    {
     "name": "stdout",
     "output_type": "stream",
     "text": [
      "Area of Circle: 78.53981633974483\n",
      "Area of Triangle: 30.0\n"
     ]
    }
   ],
   "source": [
    "import math\n",
    "\n",
    "# Base class\n",
    "class Shape:\n",
    "    def area(self):\n",
    "        raise NotImplementedError(\"Subclasses must override the area method\")\n",
    "\n",
    "# Subclass for Circle\n",
    "class Circle(Shape):\n",
    "    def __init__(self, radius):\n",
    "        self.radius = radius\n",
    "\n",
    "    def area(self):\n",
    "        return math.pi * (self.radius ** 2)\n",
    "\n",
    "# Subclass for Triangle\n",
    "class Triangle(Shape):\n",
    "    def __init__(self, base, height):\n",
    "        self.base = base\n",
    "        self.height = height\n",
    "\n",
    "    def area(self):\n",
    "        return 0.5 * self.base * self.height\n",
    "\n",
    "circle = Circle(radius=5)\n",
    "print(f\"Area of Circle: {circle.area()}\")\n",
    "\n",
    "triangle = Triangle(base=10, height=6)\n",
    "print(f\"Area of Triangle: {triangle.area()}\")\n"
   ]
  },
  {
   "cell_type": "markdown",
   "id": "df97042c-7cb2-4e12-ab7f-e324bcb16017",
   "metadata": {},
   "source": [
    "6. Write a Python program that creates a class called 'Employee' with properties\n",
    "for name and salary. Include a method to calculate annual salary. Create a\n",
    "subclass called 'Manager' that inherits from the 'Employee' class and adds an\n",
    "additional property for department. Override the annual salary calculation method\n",
    "to include bonuses for managers. Create two instances of the 'Manager' class\n",
    "and calculate their annual salary. \n"
   ]
  },
  {
   "cell_type": "code",
   "execution_count": 5,
   "id": "4b2e9df1-ef8f-4e4e-90bb-d0f4299441d2",
   "metadata": {},
   "outputs": [
    {
     "name": "stdout",
     "output_type": "stream",
     "text": [
      "Alice (Department: IT) Annual Salary: 70000\n",
      "Bob (Department: HR) Annual Salary: 87000\n"
     ]
    }
   ],
   "source": [
    "class Employee:\n",
    "    def __init__(self, name, salary):\n",
    "        self.name = name\n",
    "        self.salary = salary\n",
    "\n",
    "    def annual_salary(self):\n",
    "        return self.salary * 12\n",
    "\n",
    "class Manager(Employee):\n",
    "    def __init__(self, name, salary, department, bonus):\n",
    "        super().__init__(name, salary)\n",
    "        self.department = department\n",
    "        self.bonus = bonus\n",
    "\n",
    "    def annual_salary(self):\n",
    "        return super().annual_salary() + self.bonus\n",
    "\n",
    "manager1 = Manager(name=\"Alice\", salary=5000, department=\"IT\", bonus=10000)\n",
    "manager2 = Manager(name=\"Bob\", salary=6000, department=\"HR\", bonus=15000)\n",
    "\n",
    "print(f\"{manager1.name} (Department: {manager1.department}) Annual Salary: {manager1.annual_salary()}\")\n",
    "print(f\"{manager2.name} (Department: {manager2.department}) Annual Salary: {manager2.annual_salary()}\")\n"
   ]
  },
  {
   "cell_type": "markdown",
   "id": "3bd7018d-eb19-4223-9d1d-5c23c51c24eb",
   "metadata": {},
   "source": [
    "7. Write a Python program that creates a class Book with properties for title,\n",
    "author, and publication year. Include a method to display book details. Create a\n",
    "subclass called 'Ebook' that inherits from the 'Book' class and includes an\n",
    "additional property for book price. Override the display method to include the\n",
    "book price. Create an instance of the 'Ebook' class and display its details"
   ]
  },
  {
   "cell_type": "code",
   "execution_count": 6,
   "id": "0cddf8db-0bce-4542-a4a7-704f2f4fca9f",
   "metadata": {},
   "outputs": [
    {
     "name": "stdout",
     "output_type": "stream",
     "text": [
      "Title: Python Programming\n",
      "Author: Zubair Malik\n",
      "Publication Year: 2023\n",
      "Price: $15.99\n"
     ]
    }
   ],
   "source": [
    "class Book:\n",
    "    def __init__(self, title, author, publication_year):\n",
    "        self.title = title\n",
    "        self.author = author\n",
    "        self.publication_year = publication_year\n",
    "\n",
    "    def display_details(self):\n",
    "        return f\"Title: {self.title}\\nAuthor: {self.author}\\nPublication Year: {self.publication_year}\"\n",
    "\n",
    "class Ebook(Book):\n",
    "    def __init__(self, title, author, publication_year, price):\n",
    "        super().__init__(title, author, publication_year)\n",
    "        self.price = price\n",
    "\n",
    "    def display_details(self):\n",
    "        base_details = super().display_details()\n",
    "        return f\"{base_details}\\nPrice: ${self.price:.2f}\"\n",
    "\n",
    "ebook = Ebook(title=\"Python Programming\", author=\"Zubair Malik\", publication_year=2023, price=15.99)\n",
    "print(ebook.display_details())\n"
   ]
  },
  {
   "cell_type": "markdown",
   "id": "cb318ac5-2255-4377-a9b3-8bf300c0b3a2",
   "metadata": {},
   "source": [
    "8. Write a Python program that creates a class called 'Animal' with properties for\n",
    "species and sound. Include a method to make the animal's sound. Create a\n",
    "subclass called 'Dog' that inherits from the 'Animal' class and adds an additional\n",
    "property for color. Override the make sound method to include the dog's color.\n",
    "Create an instance of the 'Dog' class and make it make its sound. \n"
   ]
  },
  {
   "cell_type": "code",
   "execution_count": 7,
   "id": "bb1717d0-ff0a-439c-baee-5fb9f08ee30f",
   "metadata": {},
   "outputs": [
    {
     "name": "stdout",
     "output_type": "stream",
     "text": [
      "The brown dog goes 'woof'\n"
     ]
    }
   ],
   "source": [
    "class Animal:\n",
    "    def __init__(self, species, sound):\n",
    "        self.species = species\n",
    "        self.sound = sound\n",
    "\n",
    "    def make_sound(self):\n",
    "        return f\"The {self.species} goes '{self.sound}'\"\n",
    "\n",
    "class Dog(Animal):\n",
    "    def __init__(self, species, sound, color):\n",
    "        super().__init__(species, sound)\n",
    "        self.color = color\n",
    "\n",
    "    def make_sound(self):\n",
    "        return f\"The {self.color} {self.species} goes '{self.sound}'\"\n",
    "\n",
    "dog = Dog(species=\"dog\", sound=\"woof\", color=\"brown\")\n",
    "print(dog.make_sound())\n"
   ]
  },
  {
   "cell_type": "markdown",
   "id": "ce1388a8-47fa-418a-8e34-971aec32c606",
   "metadata": {},
   "source": [
    "9. Write a Python program that creates a class called Bank with properties for\n",
    "bank names and branches. Include methods to add a branch, remove a branch,\n",
    "and display all branches. Create an instance of the Bank class and perform\n",
    "operations to add and remove branches. "
   ]
  },
  {
   "cell_type": "code",
   "execution_count": 8,
   "id": "96150075-b549-4ac4-ad54-842818fa496a",
   "metadata": {},
   "outputs": [
    {
     "name": "stdout",
     "output_type": "stream",
     "text": [
      "Branch 'Downtown' added.\n",
      "Branch 'Uptown' added.\n",
      "Branch 'Midtown' added.\n",
      "Branches of Global Bank:\n",
      "- Downtown\n",
      "- Uptown\n",
      "- Midtown\n",
      "Branch 'Uptown' removed.\n",
      "Branches of Global Bank:\n",
      "- Downtown\n",
      "- Midtown\n",
      "Branch 'Suburban' does not exist.\n"
     ]
    }
   ],
   "source": [
    "class Bank:\n",
    "    def __init__(self, name):\n",
    "        self.name = name\n",
    "        self.branches = []\n",
    "\n",
    "    def add_branch(self, branch_name):\n",
    "        if branch_name not in self.branches:\n",
    "            self.branches.append(branch_name)\n",
    "            print(f\"Branch '{branch_name}' added.\")\n",
    "        else:\n",
    "            print(f\"Branch '{branch_name}' already exists.\")\n",
    "\n",
    "    def remove_branch(self, branch_name):\n",
    "        if branch_name in self.branches:\n",
    "            self.branches.remove(branch_name)\n",
    "            print(f\"Branch '{branch_name}' removed.\")\n",
    "        else:\n",
    "            print(f\"Branch '{branch_name}' does not exist.\")\n",
    "\n",
    "    def display_branches(self):\n",
    "        if self.branches:\n",
    "            print(f\"Branches of {self.name}:\")\n",
    "            for branch in self.branches:\n",
    "                print(f\"- {branch}\")\n",
    "        else:\n",
    "            print(f\"No branches available for {self.name}.\")\n",
    "\n",
    "bank = Bank(name=\"Global Bank\")\n",
    "\n",
    "# Perform operations\n",
    "bank.add_branch(\"Downtown\")\n",
    "bank.add_branch(\"Uptown\")\n",
    "bank.add_branch(\"Midtown\")\n",
    "bank.display_branches()\n",
    "\n",
    "bank.remove_branch(\"Uptown\")\n",
    "bank.display_branches()\n",
    "\n",
    "bank.remove_branch(\"Suburban\")\n"
   ]
  },
  {
   "cell_type": "markdown",
   "id": "ecfdda70-d55b-4b4f-8ed6-5dd09d4b2fbc",
   "metadata": {},
   "source": [
    "10. Write a Python program that creates a class called Product with properties for\n",
    "product ID, name, and price. Include a method to calculate the total price by\n",
    "multiplying the price by the quantity. Create a subclass called\n",
    "PersonalCareProduct that inherits from the Product class and adds an additional\n",
    "property for the warranty period. Override the total price calculation method to\n",
    "include the warranty period. Create an instance of the PersonalCareProduct\n",
    "class and calculate its total price. "
   ]
  },
  {
   "cell_type": "code",
   "execution_count": 11,
   "id": "1c05f5da-6850-4b6f-a8e9-9bce79e71d11",
   "metadata": {},
   "outputs": [
    {
     "name": "stdout",
     "output_type": "stream",
     "text": [
      "Product ID: 101\n",
      "Product Name: Electric Toothbrush\n",
      "Price per Unit: $50\n",
      "Warranty Period: 2 years\n",
      "Total Price for 3 units: $160\n"
     ]
    }
   ],
   "source": [
    "class Product:\n",
    "    def __init__(self, product_id, name, price):\n",
    "        self.product_id = product_id\n",
    "        self.name = name\n",
    "        self.price = price\n",
    "\n",
    "    def calculate_total_price(self, quantity):\n",
    "        return self.price * quantity\n",
    "\n",
    "class PersonalCareProduct(Product):\n",
    "    def __init__(self, product_id, name, price, warranty_period):\n",
    "        super().__init__(product_id, name, price)\n",
    "        self.warranty_period = warranty_period\n",
    "\n",
    "    def calculate_total_price(self, quantity):\n",
    "        base_price = super().calculate_total_price(quantity)\n",
    "        return base_price + (self.warranty_period * 5)  # Assume $5 per warranty period\n",
    "\n",
    "personal_care_product = PersonalCareProduct(product_id=101, name=\"Electric Toothbrush\", price=50, warranty_period=2)\n",
    "\n",
    "quantity = 3\n",
    "total_price = personal_care_product.calculate_total_price(quantity)\n",
    "\n",
    "print(f\"Product ID: {personal_care_product.product_id}\")\n",
    "print(f\"Product Name: {personal_care_product.name}\")\n",
    "print(f\"Price per Unit: ${personal_care_product.price}\")\n",
    "print(f\"Warranty Period: {personal_care_product.warranty_period} years\")\n",
    "print(f\"Total Price for {quantity} units: ${total_price}\")\n"
   ]
  },
  {
   "cell_type": "markdown",
   "id": "3d15df1b-dde0-43ac-9c1e-df96c8909559",
   "metadata": {},
   "source": [
    "11. Write a Python program that creates a class called BankAccount with\n",
    "properties for account number, account holder name, and balance. Include\n",
    "methods to deposit, withdraw, and transfer money between accounts. Create\n",
    "multiple instances of the BankAccount class and perform operations such as\n",
    "depositing, withdrawing, and transferring money. \n"
   ]
  },
  {
   "cell_type": "code",
   "execution_count": 12,
   "id": "2e6dc741-70b5-4b89-906e-f92f7a3db6f5",
   "metadata": {},
   "outputs": [
    {
     "name": "stdout",
     "output_type": "stream",
     "text": [
      "\n",
      "--- Deposit Operation ---\n",
      "$200 deposited into account 101. New balance: $700\n",
      "$100 deposited into account 102. New balance: $400\n",
      "\n",
      "--- Withdrawal Operation ---\n",
      "$100 withdrawn from account 101. New balance: $600\n",
      "$50 withdrawn from account 102. New balance: $350\n",
      "\n",
      "--- Transfer Operation ---\n",
      "$300 transferred from account 101 to account 102.\n",
      "New balance of account 101: $300\n",
      "New balance of account 102: $650\n"
     ]
    }
   ],
   "source": [
    "class BankAccount:\n",
    "    def __init__(self, account_number, account_holder, balance=0):\n",
    "        self.account_number = account_number\n",
    "        self.account_holder = account_holder\n",
    "        self.balance = balance\n",
    "\n",
    "    def deposit(self, amount):\n",
    "        if amount > 0:\n",
    "            self.balance += amount\n",
    "            print(f\"${amount} deposited into account {self.account_number}. New balance: ${self.balance}\")\n",
    "        else:\n",
    "            print(\"Invalid deposit amount.\")\n",
    "\n",
    "    def withdraw(self, amount):\n",
    "        if amount > 0:\n",
    "            if amount <= self.balance:\n",
    "                self.balance -= amount\n",
    "                print(f\"${amount} withdrawn from account {self.account_number}. New balance: ${self.balance}\")\n",
    "            else:\n",
    "                print(\"Insufficient balance.\")\n",
    "        else:\n",
    "            print(\"Invalid withdrawal amount.\")\n",
    "\n",
    "    def transfer(self, amount, other_account):\n",
    "        if amount > 0:\n",
    "            if amount <= self.balance:\n",
    "                self.balance -= amount\n",
    "                other_account.balance += amount\n",
    "                print(f\"${amount} transferred from account {self.account_number} to account {other_account.account_number}.\")\n",
    "                print(f\"New balance of account {self.account_number}: ${self.balance}\")\n",
    "                print(f\"New balance of account {other_account.account_number}: ${other_account.balance}\")\n",
    "            else:\n",
    "                print(\"Insufficient balance for transfer.\")\n",
    "        else:\n",
    "            print(\"Invalid transfer amount.\")\n",
    "\n",
    "# Create multiple instances of BankAccount\n",
    "account1 = BankAccount(account_number=101, account_holder=\"Alice\", balance=500)\n",
    "account2 = BankAccount(account_number=102, account_holder=\"Bob\", balance=300)\n",
    "\n",
    "# Perform operations\n",
    "print(\"\\n--- Deposit Operation ---\")\n",
    "account1.deposit(200)\n",
    "account2.deposit(100)\n",
    "\n",
    "print(\"\\n--- Withdrawal Operation ---\")\n",
    "account1.withdraw(100)\n",
    "account2.withdraw(50)\n",
    "\n",
    "print(\"\\n--- Transfer Operation ---\")\n",
    "account1.transfer(300, account2)\n"
   ]
  },
  {
   "cell_type": "markdown",
   "id": "fa2c8c45-3748-4a69-89a8-64b80e54a846",
   "metadata": {},
   "source": [
    "12. Write a Python program that creates a class called University with properties\n",
    "for university name and departments. Include methods to add a department,\n",
    "remove a department, and display all departments. Create an instance of the\n",
    "University class and add and remove departments."
   ]
  },
  {
   "cell_type": "code",
   "execution_count": 13,
   "id": "514a58f1-2346-4f5e-b49f-2db3c910d433",
   "metadata": {},
   "outputs": [
    {
     "name": "stdout",
     "output_type": "stream",
     "text": [
      "\n",
      "--- Adding Departments ---\n",
      "Department 'Computer Science' added.\n",
      "Department 'Mathematics' added.\n",
      "Department 'Physics' added.\n",
      "Department 'Computer Science' already exists.\n",
      "\n",
      "--- Displaying Departments ---\n",
      "Departments at Global University:\n",
      "- Computer Science\n",
      "- Mathematics\n",
      "- Physics\n",
      "\n",
      "--- Removing Departments ---\n",
      "Department 'Mathematics' removed.\n",
      "Department 'Biology' does not exist.\n",
      "\n",
      "--- Displaying Departments After Removal ---\n",
      "Departments at Global University:\n",
      "- Computer Science\n",
      "- Physics\n"
     ]
    }
   ],
   "source": [
    "class University:\n",
    "    def __init__(self, name):\n",
    "        self.name = name\n",
    "        self.departments = []\n",
    "\n",
    "    def add_department(self, department_name):\n",
    "        if department_name not in self.departments:\n",
    "            self.departments.append(department_name)\n",
    "            print(f\"Department '{department_name}' added.\")\n",
    "        else:\n",
    "            print(f\"Department '{department_name}' already exists.\")\n",
    "\n",
    "    def remove_department(self, department_name):\n",
    "        if department_name in self.departments:\n",
    "            self.departments.remove(department_name)\n",
    "            print(f\"Department '{department_name}' removed.\")\n",
    "        else:\n",
    "            print(f\"Department '{department_name}' does not exist.\")\n",
    "\n",
    "    def display_departments(self):\n",
    "        if self.departments:\n",
    "            print(f\"Departments at {self.name}:\")\n",
    "            for dept in self.departments:\n",
    "                print(f\"- {dept}\")\n",
    "        else:\n",
    "            print(f\"No departments available at {self.name}.\")\n",
    "\n",
    "university = University(name=\"Global University\")\n",
    "\n",
    "print(\"\\n--- Adding Departments ---\")\n",
    "university.add_department(\"Computer Science\")\n",
    "university.add_department(\"Mathematics\")\n",
    "university.add_department(\"Physics\")\n",
    "university.add_department(\"Computer Science\")  # Adding duplicate\n",
    "\n",
    "print(\"\\n--- Displaying Departments ---\")\n",
    "university.display_departments()\n",
    "\n",
    "print(\"\\n--- Removing Departments ---\")\n",
    "university.remove_department(\"Mathematics\")\n",
    "university.remove_department(\"Biology\")  # Removing a non-existent department\n",
    "\n",
    "print(\"\\n--- Displaying Departments After Removal ---\")\n",
    "university.display_departments()\n"
   ]
  },
  {
   "cell_type": "markdown",
   "id": "8efc1204-e25e-49f3-be37-68c1e16240a6",
   "metadata": {},
   "source": [
    "# THE END!"
   ]
  }
 ],
 "metadata": {
  "kernelspec": {
   "display_name": "Python 3 (ipykernel)",
   "language": "python",
   "name": "python3"
  },
  "language_info": {
   "codemirror_mode": {
    "name": "ipython",
    "version": 3
   },
   "file_extension": ".py",
   "mimetype": "text/x-python",
   "name": "python",
   "nbconvert_exporter": "python",
   "pygments_lexer": "ipython3",
   "version": "3.12.7"
  }
 },
 "nbformat": 4,
 "nbformat_minor": 5
}
