{
 "cells": [
  {
   "cell_type": "markdown",
   "id": "91e805fc-b595-4304-a376-e41cb5829c4b",
   "metadata": {},
   "source": [
    "# Name: Zubair Malik,  Assignment-Functions"
   ]
  },
  {
   "cell_type": "markdown",
   "id": "a01dd33a-1325-4013-b56f-9744ff638094",
   "metadata": {},
   "source": [
    "1. Write a Python function to find the maximum of three numbers. \n"
   ]
  },
  {
   "cell_type": "code",
   "execution_count": 7,
   "id": "a4436d28-5f50-4314-a7ea-6185a9036a1a",
   "metadata": {},
   "outputs": [
    {
     "name": "stdout",
     "output_type": "stream",
     "text": [
      "The maximum number is: 10\n"
     ]
    }
   ],
   "source": [
    "def find_max(num1, num2, num3):\n",
    "    return max(num1, num2, num3)\n",
    "\n",
    "result = find_max(5, 10, 3)\n",
    "print(\"The maximum number is:\", result)\n"
   ]
  },
  {
   "cell_type": "markdown",
   "id": "fd38aef3-8fdf-40fa-8dbc-9d6ef33d9f30",
   "metadata": {},
   "source": [
    "2. Write a Python function to sum all the numbers in a list.\n",
    "Sample List : (8, 2, 3, 0, 7) "
   ]
  },
  {
   "cell_type": "code",
   "execution_count": 8,
   "id": "9a44861e-8410-4746-9bf6-51c1d15aa4de",
   "metadata": {},
   "outputs": [
    {
     "name": "stdout",
     "output_type": "stream",
     "text": [
      "The sum of the list is: 20\n"
     ]
    }
   ],
   "source": [
    "def sum_of_list(numbers):\n",
    "    return sum(numbers)\n",
    "\n",
    "sample_list = [8, 2, 3, 0, 7]\n",
    "result = sum_of_list(sample_list)\n",
    "print(\"The sum of the list is:\", result)\n"
   ]
  },
  {
   "cell_type": "markdown",
   "id": "e59910bc-4b76-43ff-9f9c-4659dd9e0005",
   "metadata": {},
   "source": [
    "3. Write a Python function to multiply all the numbers in a list.\n",
    "   - Sample List : (8, 2, 3, -1, 7) \n"
   ]
  },
  {
   "cell_type": "code",
   "execution_count": 9,
   "id": "14af900c-5870-42c2-9e61-fe08ac132966",
   "metadata": {},
   "outputs": [
    {
     "name": "stdout",
     "output_type": "stream",
     "text": [
      "The product of the list is: -336\n"
     ]
    }
   ],
   "source": [
    "def multiply_list(numbers):\n",
    "    result = 1\n",
    "    for num in numbers:\n",
    "        result *= num\n",
    "    return result\n",
    "\n",
    "sample_list = [8, 2, 3, -1, 7]\n",
    "result = multiply_list(sample_list)\n",
    "print(\"The product of the list is:\", result)\n"
   ]
  },
  {
   "cell_type": "markdown",
   "id": "52056558-aa25-48d0-b1a2-96e773bc829d",
   "metadata": {},
   "source": [
    "4. Write a Python program to reverse a string.\n",
    "   - Sample String : \"1234abcd\" \n"
   ]
  },
  {
   "cell_type": "code",
   "execution_count": 10,
   "id": "8a2966ec-8984-4099-906d-055613375d1b",
   "metadata": {},
   "outputs": [
    {
     "name": "stdout",
     "output_type": "stream",
     "text": [
      "The reversed string is: dcba4321\n"
     ]
    }
   ],
   "source": [
    "def reverse_string(s):\n",
    "    return s[::-1]\n",
    "\n",
    "sample_string = \"1234abcd\"\n",
    "result = reverse_string(sample_string)\n",
    "print(\"The reversed string is:\", result)\n"
   ]
  },
  {
   "cell_type": "markdown",
   "id": "957f071c-ebd8-4384-8a4e-c96a097e5711",
   "metadata": {},
   "source": [
    "5. Write a Python function to calculate the factorial of a number (a non-negative\n",
    "integer). The function accepts the number as an argument. \n"
   ]
  },
  {
   "cell_type": "code",
   "execution_count": 11,
   "id": "3e113945-0fbd-48e9-8e01-27e04de73f75",
   "metadata": {},
   "outputs": [
    {
     "name": "stdout",
     "output_type": "stream",
     "text": [
      "The factorial of 5 is: 120\n"
     ]
    }
   ],
   "source": [
    "def factorial(n):\n",
    "    if n == 0 or n == 1:\n",
    "        return 1\n",
    "    else:\n",
    "        return n * factorial(n - 1)\n",
    "\n",
    "number = 5\n",
    "result = factorial(number)\n",
    "print(f\"The factorial of {number} is: {result}\")\n"
   ]
  },
  {
   "cell_type": "markdown",
   "id": "59e108d1-a1be-4eba-bbcd-9762c345ea03",
   "metadata": {},
   "source": [
    "6. Write a Python function to check whether a number falls within a given range. \n"
   ]
  },
  {
   "cell_type": "code",
   "execution_count": 12,
   "id": "35585b40-1550-4d38-a93c-9d5b3956a96c",
   "metadata": {},
   "outputs": [
    {
     "name": "stdout",
     "output_type": "stream",
     "text": [
      "10 is within the range 5 to 15.\n"
     ]
    }
   ],
   "source": [
    "def is_within_range(num, start, end):\n",
    "    return start <= num <= end\n",
    "\n",
    "number = 10\n",
    "range_start = 5\n",
    "range_end = 15\n",
    "result = is_within_range(number, range_start, range_end)\n",
    "\n",
    "if result:\n",
    "    print(f\"{number} is within the range {range_start} to {range_end}.\")\n",
    "else:\n",
    "    print(f\"{number} is outside the range {range_start} to {range_end}.\")\n"
   ]
  },
  {
   "cell_type": "markdown",
   "id": "6cf1582f-dce4-440a-bbef-96da634d15f9",
   "metadata": {},
   "source": [
    "7. Write a Python function that accepts a string and counts the number of upper\n",
    "and lower case letters.\n",
    "   - Sample String : 'The quick Brow Fox'"
   ]
  },
  {
   "cell_type": "code",
   "execution_count": 13,
   "id": "6861b9b8-39ba-4ff2-b359-2f55c83c23de",
   "metadata": {},
   "outputs": [
    {
     "name": "stdout",
     "output_type": "stream",
     "text": [
      "No. of Upper case characters: 3\n",
      "No. of Lower case characters: 12\n"
     ]
    }
   ],
   "source": [
    "def count_case(s):\n",
    "    upper_count = 0\n",
    "    lower_count = 0\n",
    "\n",
    "    for char in s:\n",
    "        if char.isupper():\n",
    "            upper_count += 1\n",
    "        elif char.islower():\n",
    "            lower_count += 1\n",
    "\n",
    "    return upper_count, lower_count\n",
    "\n",
    "\n",
    "sample_string = 'The quick Brow Fox'\n",
    "upper, lower = count_case(sample_string)\n",
    "\n",
    "print(f\"No. of Upper case characters: {upper}\")\n",
    "print(f\"No. of Lower case characters: {lower}\")\n"
   ]
  },
  {
   "cell_type": "markdown",
   "id": "cd5cc37f-5984-4cdb-bbcf-7b06063c35ca",
   "metadata": {},
   "source": [
    "8. Write a Python function that takes a list and returns a new list with distinct\n",
    "elements from the first list.\n",
    "   - Sample List : [1,2,3,3,3,3,4,5]\n",
    "   - Unique List : [1, 2, 3, 4, 5] "
   ]
  },
  {
   "cell_type": "code",
   "execution_count": 15,
   "id": "1c912a42-599e-4d48-8f28-d44de3b2111c",
   "metadata": {},
   "outputs": [
    {
     "name": "stdout",
     "output_type": "stream",
     "text": [
      "Unique List: [1, 2, 3, 4, 5]\n"
     ]
    }
   ],
   "source": [
    "def get_unique_elements(input_list):\n",
    "    return list(set(input_list))\n",
    "\n",
    "sample_list = [1, 2, 3, 3, 3, 3, 4, 5]\n",
    "unique_list = get_unique_elements(sample_list)\n",
    "print(\"Unique List:\", unique_list)\n"
   ]
  },
  {
   "cell_type": "markdown",
   "id": "5874adb9-81da-4be3-984c-abcfda17fd4a",
   "metadata": {},
   "source": [
    "9. Write a Python function that takes a number as a parameter and checks\n",
    "whether the number is prime or not.\n",
    "   - Note : A prime number (or a prime) is a natural number greater than 1 and that\n",
    "has no positive divisors other than 1 and itself. \n"
   ]
  },
  {
   "cell_type": "code",
   "execution_count": 16,
   "id": "6e44db92-99aa-4807-952f-da767295f2a1",
   "metadata": {},
   "outputs": [
    {
     "name": "stdout",
     "output_type": "stream",
     "text": [
      "29 is a prime number.\n"
     ]
    }
   ],
   "source": [
    "def is_prime(n):\n",
    "    if n <= 1:\n",
    "        return False\n",
    "    for i in range(2, int(n**0.5) + 1):\n",
    "        if n % i == 0:\n",
    "            return False\n",
    "    return True\n",
    "\n",
    "\n",
    "number = 29\n",
    "if is_prime(number):\n",
    "    print(f\"{number} is a prime number.\")\n",
    "else:\n",
    "    print(f\"{number} is not a prime number.\")\n"
   ]
  },
  {
   "cell_type": "markdown",
   "id": "390e1583-592e-4a15-9721-1aeedfdea067",
   "metadata": {},
   "source": [
    "10. Write a Python program to print the even numbers from a given list.\n",
    "   - Sample List : [1, 2, 3, 4, 5, 6, 7, 8, 9]"
   ]
  },
  {
   "cell_type": "code",
   "execution_count": 17,
   "id": "b1962b98-1427-458a-aaa2-510fd2956a81",
   "metadata": {},
   "outputs": [
    {
     "name": "stdout",
     "output_type": "stream",
     "text": [
      "Even numbers: [2, 4, 6, 8]\n"
     ]
    }
   ],
   "source": [
    "# Define the sample list\n",
    "sample_list = [1, 2, 3, 4, 5, 6, 7, 8, 9]\n",
    "\n",
    "# Use list comprehension to filter even numbers\n",
    "even_numbers = [num for num in sample_list if num % 2 == 0]\n",
    "\n",
    "# Print the result\n",
    "print(\"Even numbers:\", even_numbers)\n"
   ]
  },
  {
   "cell_type": "markdown",
   "id": "7f439eab-a969-4c0f-b1ed-97b0a0c5cdba",
   "metadata": {},
   "source": [
    "11. Write a Python function to check whether a number is \"Perfect\" or not.\n",
    "According to Wikipedia : In number theory, a perfect number is a positive integer\n",
    "that is equal to the sum of its proper positive divisors, that is, the sum of its\n",
    "positive divisors excluding the number itself (also known as its aliquot sum).\n",
    "Equivalently, a perfect number is a number that is half the sum of all of its\n",
    "positive divisors (including itself)."
   ]
  },
  {
   "cell_type": "code",
   "execution_count": 20,
   "id": "cd89d246-9170-4d4f-8411-e5f5a76f9e7e",
   "metadata": {},
   "outputs": [
    {
     "name": "stdin",
     "output_type": "stream",
     "text": [
      "Enter a number to check if it's perfect:  9\n"
     ]
    },
    {
     "name": "stdout",
     "output_type": "stream",
     "text": [
      "9 is NOT a Perfect number.\n"
     ]
    }
   ],
   "source": [
    "def is_perfect_number(num):\n",
    "    \"\"\"\n",
    "    Check if a number is a perfect number.\n",
    "\n",
    "    Args:\n",
    "    num (int): The number to check.\n",
    "\n",
    "    Returns:\n",
    "    bool: True if the number is perfect, False otherwise.\n",
    "    \"\"\"\n",
    "    if num <= 0:\n",
    "        return False\n",
    "\n",
    "    # Calculate the sum of proper divisors of the number\n",
    "    proper_divisors_sum = sum(i for i in range(1, num // 2 + 1) if num % i == 0)\n",
    "\n",
    "    # A number is perfect if it's equal to the sum of its proper divisors\n",
    "    return proper_divisors_sum == num\n",
    "\n",
    "\n",
    "# Test the function\n",
    "number = int(input(\"Enter a number to check if it's perfect: \"))\n",
    "if is_perfect_number(number):\n",
    "    print(f\"{number} is a Perfect number!\")\n",
    "else:\n",
    "    print(f\"{number} is NOT a Perfect number.\")\n"
   ]
  },
  {
   "cell_type": "markdown",
   "id": "83994517-ee2e-43b5-a9da-7e860752e583",
   "metadata": {},
   "source": [
    "12. Write a Python function that checks whether a passed string is a palindrome\n",
    "or not.\n",
    "  - Note: A palindrome is a word, phrase, or sequence that reads the same backward\n",
    "as forward, e.g., madam or nurses run."
   ]
  },
  {
   "cell_type": "code",
   "execution_count": 8,
   "id": "4b710e82-ed57-41b8-8bf7-3a6a7bc949f5",
   "metadata": {},
   "outputs": [
    {
     "name": "stdin",
     "output_type": "stream",
     "text": [
      "Enter a string to check if it's a palindrome:  madam\n"
     ]
    },
    {
     "name": "stdout",
     "output_type": "stream",
     "text": [
      "\"madam\" is a Palindrome!\n"
     ]
    }
   ],
   "source": [
    "def is_palindrome(string):\n",
    "    \"\"\"\n",
    "    Check if a string is a palindrome.\n",
    "\n",
    "    Args:\n",
    "    string (str): The string to check.\n",
    "\n",
    "    Returns:\n",
    "    bool: True if the string is a palindrome, False otherwise.\n",
    "    \"\"\"\n",
    "    cleaned_string = ''.join(char.lower() for char in string if char.isalnum())\n",
    "\n",
    "    return cleaned_string == cleaned_string[::-1]\n",
    "\n",
    "input_string = (input(\"Enter a string to check if it's a palindrome: \"))\n",
    "if is_palindrome(input_string):\n",
    "    print(f'\"{input_string}\" is a Palindrome!')\n",
    "else:\n",
    "    print(f'\"{input_string}\" is NOT a Palindrome.')\n"
   ]
  },
  {
   "cell_type": "markdown",
   "id": "15dfcc85-4a8c-4c05-8367-aa026915ab8a",
   "metadata": {},
   "source": [
    "# *THE END*"
   ]
  }
 ],
 "metadata": {
  "kernelspec": {
   "display_name": "Python 3 (ipykernel)",
   "language": "python",
   "name": "python3"
  },
  "language_info": {
   "codemirror_mode": {
    "name": "ipython",
    "version": 3
   },
   "file_extension": ".py",
   "mimetype": "text/x-python",
   "name": "python",
   "nbconvert_exporter": "python",
   "pygments_lexer": "ipython3",
   "version": "3.12.7"
  }
 },
 "nbformat": 4,
 "nbformat_minor": 5
}
