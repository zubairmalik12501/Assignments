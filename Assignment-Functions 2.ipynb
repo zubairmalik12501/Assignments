{
 "cells": [
  {
   "cell_type": "markdown",
   "id": "99274e96-23a1-4ae8-8a7b-b169a1741e4b",
   "metadata": {},
   "source": [
    "# Name: Zubair Malik , Assignment-Functions 2"
   ]
  },
  {
   "cell_type": "markdown",
   "id": "75b339a5-d019-4869-b447-277c79a01af8",
   "metadata": {},
   "source": [
    "### Task1:\n",
    "You need to write a function in python that return all such numbers which are\n",
    "divisible by 7 but are not a multiple of 5, between 2000 and 3200 (both included).\n",
    "Return the obtained numbers in a comma-separated sequence on a single line. "
   ]
  },
  {
   "cell_type": "code",
   "execution_count": 8,
   "id": "8d39f37e-0bb8-452f-8bd4-ed72b2ee6007",
   "metadata": {},
   "outputs": [
    {
     "name": "stdout",
     "output_type": "stream",
     "text": [
      "2002,2009,2016,2023,2037,2044,2051,2058,2072,2079,2086,2093,2107,2114,2121,2128,2142,2149,2156,2163,2177,2184,2191,2198,2212,2219,2226,2233,2247,2254,2261,2268,2282,2289,2296,2303,2317,2324,2331,2338,2352,2359,2366,2373,2387,2394,2401,2408,2422,2429,2436,2443,2457,2464,2471,2478,2492,2499,2506,2513,2527,2534,2541,2548,2562,2569,2576,2583,2597,2604,2611,2618,2632,2639,2646,2653,2667,2674,2681,2688,2702,2709,2716,2723,2737,2744,2751,2758,2772,2779,2786,2793,2807,2814,2821,2828,2842,2849,2856,2863,2877,2884,2891,2898,2912,2919,2926,2933,2947,2954,2961,2968,2982,2989,2996,3003,3017,3024,3031,3038,3052,3059,3066,3073,3087,3094,3101,3108,3122,3129,3136,3143,3157,3164,3171,3178,3192,3199\n"
     ]
    }
   ],
   "source": [
    "def find_numbers():\n",
    "   \n",
    "    numbers = [str(num) for num in range(2000, 3201) if num % 7 == 0 and num % 5 != 0]\n",
    "\n",
    "    return ','.join(numbers)\n",
    "\n",
    "result = find_numbers()\n",
    "print(result)\n"
   ]
  },
  {
   "cell_type": "markdown",
   "id": "386f80ca-0545-4797-8959-736821b4892a",
   "metadata": {},
   "source": [
    "### Task2:\n",
    "You need code a function that calculates and returns the value according to the\n",
    "given formula:\n",
    " - P = Square root of [(2 * A * B)/C]\n",
    " - Following are the fixed values of A and B:\n",
    "   - A is 50. B is 30.\n",
    " - The values of the literal C should be taken as console input to your program in a\n",
    "comma-separated sequence.\n",
    " - Example:\n",
    "Let us assume the following comma separated input sequence is given to the program:\n",
    "   - 100,150,180\n",
    " - The output of the program should be:\n",
    "   - 18,22,24"
   ]
  },
  {
   "cell_type": "code",
   "execution_count": 34,
   "id": "a6d7f531-7815-416a-a4db-7a53d8b70bfa",
   "metadata": {},
   "outputs": [
    {
     "name": "stdin",
     "output_type": "stream",
     "text": [
      "Enter values of C, separated by commas:  100,150,180\n"
     ]
    },
    {
     "name": "stdout",
     "output_type": "stream",
     "text": [
      "5,4,4\n"
     ]
    }
   ],
   "source": [
    "def calculate_p(c_values):\n",
    "    A = 50  # Fixed value of A\n",
    "    B = 30  # Fixed value of B\n",
    "    results = []  \n",
    "    \n",
    "    for c in c_values:\n",
    "        P = ((2 * A * B) / c) ** 0.5  \n",
    "        results.append(round(P)) \n",
    "        \n",
    "    return results\n",
    "\n",
    "c_input = input(\"Enter values of C, separated by commas: \")\n",
    "\n",
    "c_values = list(map(int, c_input.split(',')))\n",
    "\n",
    "output = calculate_p(c_values)\n",
    "print(\",\".join(map(str, output)))\n"
   ]
  },
  {
   "cell_type": "markdown",
   "id": "44a695a1-c95f-4547-a10b-360806f69ec3",
   "metadata": {},
   "source": [
    "### Task3:\n",
    "You need to write a function that takes a comma separated sequence of words as\n",
    "input and prints the words in a comma-separated sequence after sorting them\n",
    "alphabetically.\n",
    " - Suppose the following input is supplied to the program:\n",
    "   - without,hello,bag,world\n",
    " - Then, the output should be:\n",
    "   - bag,hello,without,world "
   ]
  },
  {
   "cell_type": "code",
   "execution_count": 1,
   "id": "8d35ecb8-6dde-419c-9fa9-e31595260e7b",
   "metadata": {},
   "outputs": [
    {
     "name": "stdout",
     "output_type": "stream",
     "text": [
      "bag,hello,without,world\n"
     ]
    }
   ],
   "source": [
    "def sort_words(input_string):\n",
    "    words = input_string.split(',')\n",
    "    words.sort()\n",
    "    sorted_string = ','.join(words)\n",
    "    print(sorted_string)\n",
    "\n",
    "input_string = \"without,hello,bag,world\"\n",
    "sort_words(input_string)\n"
   ]
  },
  {
   "cell_type": "markdown",
   "id": "c728e208-ca88-49d1-b70a-86af2d0e58e2",
   "metadata": {},
   "source": [
    "### Task4:\n",
    "You need to write a program that takes sequence of lines as input and prints the\n",
    "lines after making all characters in the sentence capitalized.\n",
    " - Suppose the following input is supplied to the program:\n",
    "   - Hello world\n",
    "   - Practice makes perfect\n",
    " - Then, the output should be:\n",
    "   - HELLO WORLD\n",
    "   - PRACTICE MAKES PERFECT "
   ]
  },
  {
   "cell_type": "code",
   "execution_count": 5,
   "id": "57436625-d9c4-453b-a508-4646678096fe",
   "metadata": {},
   "outputs": [
    {
     "name": "stdin",
     "output_type": "stream",
     "text": [
      " Hello world \n"
     ]
    },
    {
     "name": "stdout",
     "output_type": "stream",
     "text": [
      "HELLO WORLD \n"
     ]
    },
    {
     "name": "stdin",
     "output_type": "stream",
     "text": [
      " Practice makes perfect\n"
     ]
    },
    {
     "name": "stdout",
     "output_type": "stream",
     "text": [
      "PRACTICE MAKES PERFECT\n"
     ]
    },
    {
     "name": "stdin",
     "output_type": "stream",
     "text": [
      " \n"
     ]
    }
   ],
   "source": [
    "def capitalize_lines():\n",
    "    while True:\n",
    "        line = input()\n",
    "        if line == \"\": \n",
    "            break\n",
    "        print(line.upper())  # Print the line in uppercase\n",
    "\n",
    "capitalize_lines()\n"
   ]
  },
  {
   "cell_type": "markdown",
   "id": "fc7e6ee7-7075-455c-8597-7d2265256d8f",
   "metadata": {},
   "source": [
    "### Task5:\n",
    "You need to write a function that counts the number of vowels in a given\n",
    "sentence as input from console.\n",
    " - Suppose the following input is supplied to the program:\n",
    "   - Hello world\n",
    "   - Practice makes perfect\n",
    " - Then, the output should be:\n",
    "   - a appeared 2 times\n",
    "   - e appeared 5 times\n",
    "   - i appeared 1 time\n",
    "   - o appeared 2 times\n",
    "   - u appeared 0 time\n",
    "   - PRACTICE MAKES PERFECT"
   ]
  },
  {
   "cell_type": "code",
   "execution_count": 23,
   "id": "051027fd-99c8-4db0-be3e-ce82ac7107ee",
   "metadata": {},
   "outputs": [
    {
     "name": "stdin",
     "output_type": "stream",
     "text": [
      "Enter a sentence:  PRACTICE MAKES PERFECTS\n"
     ]
    },
    {
     "name": "stdout",
     "output_type": "stream",
     "text": [
      "a appeared 2 times\n",
      "e appeared 4 times\n",
      "i appeared 1 times\n",
      "o appeared 0 times\n",
      "u appeared 0 times\n"
     ]
    }
   ],
   "source": [
    "def count_vowels(sentence):\n",
    "    vowels = 'aeiou'\n",
    "    vowel_count = {'a': 0, 'e': 0, 'i': 0, 'o': 0, 'u': 0}\n",
    "    \n",
    "    sentence = sentence.lower()\n",
    "  \n",
    "    for char in sentence:\n",
    "        if char in vowels:\n",
    "            vowel_count[char] += 1\n",
    "    \n",
    "    for vowel, count in vowel_count.items():\n",
    "        print(f\"{vowel} appeared {count} times\")\n",
    "\n",
    "sentence = input(\"Enter a sentence: \")\n",
    "count_vowels(sentence)\n"
   ]
  },
  {
   "cell_type": "markdown",
   "id": "8ff07db2-df75-4cc0-b872-b78d589815fc",
   "metadata": {},
   "source": [
    "### Task6:\n",
    "You need write a function that traces and makes a list of all such numbers\n",
    "from1000 to 3000 in which all the digits are even numbers. "
   ]
  },
  {
   "cell_type": "code",
   "execution_count": 27,
   "id": "7fb300da-574d-4bad-9cee-1a172304518f",
   "metadata": {},
   "outputs": [
    {
     "name": "stdout",
     "output_type": "stream",
     "text": [
      "[2000, 2002, 2004, 2006, 2008, 2020, 2022, 2024, 2026, 2028, 2040, 2042, 2044, 2046, 2048, 2060, 2062, 2064, 2066, 2068, 2080, 2082, 2084, 2086, 2088, 2200, 2202, 2204, 2206, 2208, 2220, 2222, 2224, 2226, 2228, 2240, 2242, 2244, 2246, 2248, 2260, 2262, 2264, 2266, 2268, 2280, 2282, 2284, 2286, 2288, 2400, 2402, 2404, 2406, 2408, 2420, 2422, 2424, 2426, 2428, 2440, 2442, 2444, 2446, 2448, 2460, 2462, 2464, 2466, 2468, 2480, 2482, 2484, 2486, 2488, 2600, 2602, 2604, 2606, 2608, 2620, 2622, 2624, 2626, 2628, 2640, 2642, 2644, 2646, 2648, 2660, 2662, 2664, 2666, 2668, 2680, 2682, 2684, 2686, 2688, 2800, 2802, 2804, 2806, 2808, 2820, 2822, 2824, 2826, 2828, 2840, 2842, 2844, 2846, 2848, 2860, 2862, 2864, 2866, 2868, 2880, 2882, 2884, 2886, 2888]\n"
     ]
    }
   ],
   "source": [
    "def find_even_digit_numbers():\n",
    "    even_digit_numbers = []\n",
    "    \n",
    "    for number in range(1000, 3001):\n",
    "        str_number = str(number)\n",
    "        \n",
    "        if all(int(digit) % 2 == 0 for digit in str_number):\n",
    "            even_digit_numbers.append(number)\n",
    "    \n",
    "    return even_digit_numbers\n",
    "\n",
    "even_digit_numbers = find_even_digit_numbers()\n",
    "print(even_digit_numbers)\n"
   ]
  },
  {
   "cell_type": "markdown",
   "id": "2f6e588d-fe59-42f8-8e0b-7e11a6ffb58c",
   "metadata": {},
   "source": [
    "### Task7:\n",
    "You need to write a code which accepts a sequence of comma separated 4 digit\n",
    "binary numbers as its input and then check whether they are divisible by 5 or not.\n",
    "The numbers that are divisible by 5 are to be printed in a comma separated sequence.\n",
    " - Example:\n",
    "0100,0011,1010,1001\n",
    " - Then the output should be:\n",
    "   - 1010\n",
    "   - Reference: https://www.datacamp.com/.../python-data-type-conversion"
   ]
  },
  {
   "cell_type": "code",
   "execution_count": 26,
   "id": "da6f1343-ca99-477e-9dde-8dcb833d9001",
   "metadata": {},
   "outputs": [
    {
     "name": "stdin",
     "output_type": "stream",
     "text": [
      "Enter a sequence of 4-digit binary numbers, separated by commas:  0100,0011,1010,1001\n"
     ]
    },
    {
     "name": "stdout",
     "output_type": "stream",
     "text": [
      "1010\n"
     ]
    }
   ],
   "source": [
    "binary_numbers = input(\"Enter a sequence of 4-digit binary numbers, separated by commas: \")\n",
    "\n",
    "binary_list = binary_numbers.split(',')\n",
    "\n",
    "divisible_by_5 = []\n",
    "for binary in binary_list:\n",
    "    decimal = int(binary, 2)\n",
    "    \n",
    "    if decimal % 5 == 0:\n",
    "        divisible_by_5.append(binary)\n",
    "\n",
    "print(\",\".join(divisible_by_5))\n"
   ]
  },
  {
   "cell_type": "markdown",
   "id": "65c7d08c-26eb-4ead-bc8f-1ce51eca033c",
   "metadata": {},
   "source": [
    "### Task8:\n",
    "Write a program that accepts a sentence and calculate the number of letters and\n",
    "digits.\n",
    " - Suppose the following input is supplied to the program:\n",
    "   - hello world! 123\n",
    " - Then, the output should be:\n",
    "   - LETTERS 10\n",
    "   - DIGITS 3"
   ]
  },
  {
   "cell_type": "code",
   "execution_count": 1,
   "id": "15a02ff9-2d74-4e84-ac79-a5a1167903be",
   "metadata": {},
   "outputs": [
    {
     "name": "stdin",
     "output_type": "stream",
     "text": [
      "Enter a sentence:  Hello World! 123\n"
     ]
    },
    {
     "name": "stdout",
     "output_type": "stream",
     "text": [
      "LETTERS 10\n",
      "DIGITS 3\n"
     ]
    }
   ],
   "source": [
    "def count_letters_and_digits(sentence):\n",
    "    letter_count = 0\n",
    "    digit_count = 0\n",
    "\n",
    "    for char in sentence:\n",
    "        if char.isalpha():  \n",
    "            letter_count += 1\n",
    "        elif char.isdigit():  \n",
    "            digit_count += 1\n",
    "\n",
    "    print(f\"LETTERS {letter_count}\")\n",
    "    print(f\"DIGITS {digit_count}\")\n",
    "\n",
    "input_sentence = input(\"Enter a sentence: \")\n",
    "\n",
    "count_letters_and_digits(input_sentence)\n"
   ]
  },
  {
   "cell_type": "markdown",
   "id": "405d2d8c-d250-4b71-bb9c-d5be4a62d94c",
   "metadata": {},
   "source": [
    "# *THE END*"
   ]
  }
 ],
 "metadata": {
  "kernelspec": {
   "display_name": "Python 3 (ipykernel)",
   "language": "python",
   "name": "python3"
  },
  "language_info": {
   "codemirror_mode": {
    "name": "ipython",
    "version": 3
   },
   "file_extension": ".py",
   "mimetype": "text/x-python",
   "name": "python",
   "nbconvert_exporter": "python",
   "pygments_lexer": "ipython3",
   "version": "3.12.7"
  }
 },
 "nbformat": 4,
 "nbformat_minor": 5
}
