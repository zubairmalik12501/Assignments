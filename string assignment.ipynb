{
 "cells": [
  {
   "cell_type": "markdown",
   "id": "f618f12b-21f0-404f-9f14-c9b08783826b",
   "metadata": {},
   "source": [
    "# Strings Assignment"
   ]
  },
  {
   "cell_type": "raw",
   "id": "e4e2142d-0c41-41fb-aa9b-71edcbc4ae10",
   "metadata": {},
   "source": [
    "1. Write a program that accepts a string from user. Your program should count and display number of\n",
    "vowels in that string. "
   ]
  },
  {
   "cell_type": "code",
   "execution_count": 4,
   "id": "c53d2c3f-2f3c-4929-b6e6-f71b2ef5e2a6",
   "metadata": {},
   "outputs": [],
   "source": [
    "vowel_1=\"a\"\n",
    "vowel_2=\"e\"\n",
    "vowel_3=\"i\"\n",
    "vowel_4=\"o\"\n",
    "vowel_5=\"u\""
   ]
  },
  {
   "cell_type": "code",
   "execution_count": 5,
   "id": "7274b941-419a-4d7b-8e11-979779796d50",
   "metadata": {},
   "outputs": [
    {
     "name": "stdin",
     "output_type": "stream",
     "text": [
      "Enter your name zubair malik\n"
     ]
    }
   ],
   "source": [
    "name=str(input(\"Enter your name\"))"
   ]
  },
  {
   "cell_type": "code",
   "execution_count": 6,
   "id": "6691c1ea-cf50-4401-9929-f9ce5ac67735",
   "metadata": {},
   "outputs": [
    {
     "name": "stdout",
     "output_type": "stream",
     "text": [
      "No of vowels in your name is 5\n"
     ]
    }
   ],
   "source": [
    "count_1=name.count(vowel_1)\n",
    "count_2=name.count(vowel_2)\n",
    "count_3=name.count(vowel_3)\n",
    "count_4=name.count(vowel_4)\n",
    "count_5=name.count(vowel_5)\n",
    "vowels=count_1+count_2+count_3+count_4+count_5\n",
    "print(f\"No of vowels in your name is {vowels}\")\n"
   ]
  },
  {
   "cell_type": "raw",
   "id": "c8b891dd-5d81-4e86-abe9-a279bfd76ada",
   "metadata": {},
   "source": [
    " 2. Write a program that reads a string from keyboard and display:\n",
    "* The number of uppercase letters in the string\n",
    "* The number of lowercase letters in the string\n",
    "* The number of digits in the string\n",
    "* The number of whitespace characters in the string \n"
   ]
  },
  {
   "cell_type": "code",
   "execution_count": 8,
   "id": "9707ad07-ca80-4b45-bcc2-7fd141a82c66",
   "metadata": {},
   "outputs": [
    {
     "name": "stdin",
     "output_type": "stream",
     "text": [
      "Enter a sentences: My Name Is Zubair Malik\n"
     ]
    },
    {
     "name": "stdout",
     "output_type": "stream",
     "text": [
      "Uppercase letters: 5\n",
      "Lowercase letters: 14\n",
      "Digits: 0\n",
      "Whitespace characters: 4\n"
     ]
    }
   ],
   "source": [
    "text=input(\"Enter a sentences:\")\n",
    "uppercase_count = 0\n",
    "lowercase_count = 0\n",
    "digit_count = 0\n",
    "whitespace_count = 0\n",
    "for i in range(len(text)):\n",
    "        if text[i].isupper():\n",
    "            uppercase_count += 1\n",
    "        elif text[i].islower():\n",
    "            lowercase_count += 1\n",
    "        elif text[i].isdigit():\n",
    "            digit_count += 1\n",
    "        elif text[i].isspace():\n",
    "            whitespace_count += 1\n",
    "print(\"Uppercase letters:\", uppercase_count)\n",
    "print(\"Lowercase letters:\", lowercase_count)\n",
    "print(\"Digits:\", digit_count)\n",
    "print(\"Whitespace characters:\", whitespace_count)\n"
   ]
  },
  {
   "cell_type": "raw",
   "id": "1a766d2d-2a76-48e5-91de-477afccdd00e",
   "metadata": {},
   "source": [
    " 3. Write a Python program that accepts a string from user. Your program should create and display a\n",
    "new string where the first and last characters have been exchanged. \n"
   ]
  },
  {
   "cell_type": "code",
   "execution_count": 15,
   "id": "70f27bf4-8768-4600-85b2-5510849fef4f",
   "metadata": {},
   "outputs": [
    {
     "name": "stdin",
     "output_type": "stream",
     "text": [
      "Enter a text: WELCOME\n"
     ]
    },
    {
     "data": {
      "text/plain": [
       "'EELCOMW'"
      ]
     },
     "execution_count": 15,
     "metadata": {},
     "output_type": "execute_result"
    }
   ],
   "source": [
    "text = input(\"Enter a text:\")\n",
    "swapped = text[-1] + text[1:-1] + text[0] \n",
    "swapped"
   ]
  },
  {
   "cell_type": "raw",
   "id": "e0221b4c-c272-4d7b-9ad9-f70e5187df21",
   "metadata": {},
   "source": [
    "4. Write a Python program that accepts a string from user. Your program should create a new string in\n",
    "reverse of first string and display it. \n"
   ]
  },
  {
   "cell_type": "code",
   "execution_count": 19,
   "id": "241527ab-7aea-42fb-a8a7-da19435e4e29",
   "metadata": {},
   "outputs": [
    {
     "name": "stdin",
     "output_type": "stream",
     "text": [
      "Enter a text: exam\n"
     ]
    },
    {
     "data": {
      "text/plain": [
       "'maxe'"
      ]
     },
     "execution_count": 19,
     "metadata": {},
     "output_type": "execute_result"
    }
   ],
   "source": [
    "text = input(\"Enter a text:\")\n",
    "text = text[::-1]\n",
    "text"
   ]
  },
  {
   "cell_type": "raw",
   "id": "cccfe461-c3e7-4ceb-a972-0ab9372f368f",
   "metadata": {},
   "source": [
    " 5. Write a Python program that accepts a string from user. Your program should create a new string by\n",
    "shifting one position to left. "
   ]
  },
  {
   "cell_type": "code",
   "execution_count": 21,
   "id": "22da39d2-d118-4493-9517-8555ecdf5aee",
   "metadata": {},
   "outputs": [
    {
     "name": "stdin",
     "output_type": "stream",
     "text": [
      "Enter a text: examination 2024\n"
     ]
    },
    {
     "data": {
      "text/plain": [
       "'xamination 2024e'"
      ]
     },
     "execution_count": 21,
     "metadata": {},
     "output_type": "execute_result"
    }
   ],
   "source": [
    "text = input(\"Enter a text:\")\n",
    "text = text[1:] + text[0]\n",
    "text"
   ]
  },
  {
   "cell_type": "raw",
   "id": "beda1230-0973-4fb3-a875-cbed320092e5",
   "metadata": {},
   "source": [
    "6. A palindrome is a string that reads the same backward as forward. For example, the words dad,\n",
    "madam and radar are all palindromes. Write a programs that determines whether the string is a\n",
    "palindrome. "
   ]
  },
  {
   "cell_type": "code",
   "execution_count": 23,
   "id": "871a5856-6245-448c-8d7d-7d1609aa1912",
   "metadata": {},
   "outputs": [
    {
     "name": "stdin",
     "output_type": "stream",
     "text": [
      "Enter a text: madam\n"
     ]
    },
    {
     "name": "stdout",
     "output_type": "stream",
     "text": [
      "String is a Palindrome\n"
     ]
    }
   ],
   "source": [
    "text = input(\"Enter a text:\")\n",
    "if text == text[::-1]:\n",
    "    print(\"String is a Palindrome\")\n",
    "else:\n",
    "    print(\"String is not Paindrome\")"
   ]
  },
  {
   "cell_type": "raw",
   "id": "92385921-322d-4da7-a42f-5806de44f8a0",
   "metadata": {},
   "source": [
    "7. Write a program that display following output:\n",
    "SHIFT\n",
    "HIFTS\n",
    "IFTSH\n",
    "FTSHI\n",
    "TSHIF\n",
    "SHIFT \n"
   ]
  },
  {
   "cell_type": "code",
   "execution_count": 25,
   "id": "3de027f8-cb81-4e13-8609-ab96a48ec8f5",
   "metadata": {},
   "outputs": [
    {
     "name": "stdout",
     "output_type": "stream",
     "text": [
      "SHIFT\n",
      "HIFTS\n",
      "IFTSH\n",
      "FTSHI\n",
      "TSHIF\n",
      "SHIFT\n"
     ]
    }
   ],
   "source": [
    "string = \"SHIFT\"\n",
    "print(string[0:])\n",
    "print(string[1:]+string[0])\n",
    "print(string[2:]+string[0:2])\n",
    "print(string[3:]+string[0:3])\n",
    "print(string[4:]+string[0:4])\n",
    "print(string[0:])\n"
   ]
  },
  {
   "cell_type": "raw",
   "id": "a05059c1-c1b0-475c-8c10-e172f0c6b9bf",
   "metadata": {},
   "source": [
    " 8. Write a program in python that accepts a string to setup a passwords. Your entered password must\n",
    "meet the following requirements:\n",
    "The password must be at least eight characters long.\n",
    "It must contain at least one uppercase letter.\n",
    "It must contain at least one lowercase letter.\n",
    "It must contain at least one numeric digit.\n",
    "Your program should should perform this validation"
   ]
  },
  {
   "cell_type": "code",
   "execution_count": 10,
   "id": "3e90e535-35bb-42fb-87c9-c0b8bb1c09b7",
   "metadata": {},
   "outputs": [
    {
     "name": "stdin",
     "output_type": "stream",
     "text": [
      "Enter your password ZubairMalik1250\n"
     ]
    },
    {
     "name": "stdout",
     "output_type": "stream",
     "text": [
      "Your Password Is Valid ZubairMalik1250\n"
     ]
    }
   ],
   "source": [
    "password = input(\"Enter your password\")\n",
    "if len(password) < 8:\n",
    "    print(\"Password must be at least eight characters long!\")\n",
    "for char in password:\n",
    "    if (char.isupper()):\n",
    "        break\n",
    "else:\n",
    "    print(\"Password must contain at least one uppercase letter!\")\n",
    "for char in password:\n",
    "    if (char.islower()):\n",
    "        break\n",
    "else:\n",
    "    print(\"Password must contain at least one lowercase letter!\")\n",
    "for char in password:\n",
    "    if (char.isdigit()):\n",
    "        break\n",
    "else:\n",
    "    print(\"Password must contain at least one numeric digit!\")\n",
    "print(f\"Your Password Is Valid {password}\")"
   ]
  },
  {
   "cell_type": "markdown",
   "id": "be5bd557-625b-4984-919c-4436fce1bf0a",
   "metadata": {},
   "source": [
    "# *THE END!*"
   ]
  }
 ],
 "metadata": {
  "kernelspec": {
   "display_name": "Python 3 (ipykernel)",
   "language": "python",
   "name": "python3"
  },
  "language_info": {
   "codemirror_mode": {
    "name": "ipython",
    "version": 3
   },
   "file_extension": ".py",
   "mimetype": "text/x-python",
   "name": "python",
   "nbconvert_exporter": "python",
   "pygments_lexer": "ipython3",
   "version": "3.12.7"
  }
 },
 "nbformat": 4,
 "nbformat_minor": 5
}
