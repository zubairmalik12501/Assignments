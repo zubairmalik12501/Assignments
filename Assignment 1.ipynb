{
 "cells": [
  {
   "cell_type": "markdown",
   "id": "34f7b790-3461-4725-a843-c661f26b4590",
   "metadata": {},
   "source": [
    "### Topic: print()\n",
    "1)\tUsing the python print function print any string value, integer value, boolean value, float value in single print command"
   ]
  },
  {
   "cell_type": "code",
   "execution_count": 2,
   "id": "88c82fb9-a117-4382-91c5-6710510052b4",
   "metadata": {},
   "outputs": [
    {
     "name": "stdout",
     "output_type": "stream",
     "text": [
      "hello 98 True 98.5\n"
     ]
    }
   ],
   "source": [
    "print(\"hello\" ,98 ,True ,98.5) "
   ]
  },
  {
   "cell_type": "markdown",
   "id": "901f1397-c5fc-415e-82a7-619d75f12047",
   "metadata": {},
   "source": [
    "2)\tUsing the python print function print hyphon(-) separated any string value, integer value, boolean value, float value in single print command"
   ]
  },
  {
   "cell_type": "code",
   "execution_count": 6,
   "id": "1bc6d258-ec38-44ef-8129-1432e30df285",
   "metadata": {},
   "outputs": [
    {
     "name": "stdout",
     "output_type": "stream",
     "text": [
      "hello-98-True-98.5\n"
     ]
    }
   ],
   "source": [
    "print(\"hello\" ,98 ,True ,98.5 ,sep='-')"
   ]
  },
  {
   "cell_type": "markdown",
   "id": "7b8b6de0-dfc1-48d8-901f-c0383422bb0d",
   "metadata": {},
   "source": [
    "3)\tUsing the python print function print any string value, integer value, boolean value, float value in separate print command. But every value must be space separated and in single line"
   ]
  },
  {
   "cell_type": "code",
   "execution_count": 9,
   "id": "bf5e9d20-10e7-41d1-9beb-ade4d09a83e6",
   "metadata": {},
   "outputs": [
    {
     "name": "stdout",
     "output_type": "stream",
     "text": [
      "hello 98 True 98.5\n"
     ]
    }
   ],
   "source": [
    "print(\"hello\", end=' ')\n",
    "print(98, end=' ') \n",
    "print(True, end=' ') \n",
    "print(98.5) "
   ]
  },
  {
   "cell_type": "markdown",
   "id": "8090d566-33e5-47b2-b061-a3cf8eb89417",
   "metadata": {},
   "source": [
    "4)\tCan a python print function take no value to print???"
   ]
  },
  {
   "cell_type": "code",
   "execution_count": 10,
   "id": "04209425-de29-46ea-b677-804c2e375446",
   "metadata": {},
   "outputs": [
    {
     "name": "stdout",
     "output_type": "stream",
     "text": [
      "\n"
     ]
    }
   ],
   "source": [
    "print(\"\")"
   ]
  },
  {
   "cell_type": "markdown",
   "id": "ef1b12d4-8fad-4346-9600-6992166a9c78",
   "metadata": {},
   "source": [
    "## TOPIC :Variables in Python Operators\n",
    "5)\tOne of my friends name is Mr. Ahmed. He is 30 years old. He is a lawer by profession. He has done his bachelors in law in the year 2005. He is working with a reputable law firm 'The Himalya Associates' in Karachi since 2015. He is a handsome lawer with height of 5.10 feets and weight 70600 g. His monthly income is Rs. 200k PKR.\n",
    "Note: Create variables from above text and also assign values from the text.\n"
   ]
  },
  {
   "cell_type": "code",
   "execution_count": 13,
   "id": "fba5a169-d0b6-4239-a7b1-bca87142eda1",
   "metadata": {},
   "outputs": [],
   "source": [
    "name = \"Mr.Ahmed\"\n",
    "age = 30\n",
    "profession = \"lawyer\" \n",
    "education = \"bachelors\"\n",
    "graduation_year = 2005\n",
    "company_name = \"The himalya associates\" \n",
    "company_location = \"karachi\" \n",
    "joining_year = 2015 \n",
    "height_Ft = 5.10 \n",
    "weight_g = 70600 \n",
    "monthly_income = 200000"
   ]
  },
  {
   "cell_type": "markdown",
   "id": "5abe4597-fa09-435e-b116-229587e041f0",
   "metadata": {},
   "source": [
    "6)How many years has been to Mr. Ahmed after his bachelors degree? Create a variable that hold current year value and then subtract it from his passout year"
   ]
  },
  {
   "cell_type": "code",
   "execution_count": 14,
   "id": "67125d31-5f60-4096-8571-df68794cf4d4",
   "metadata": {},
   "outputs": [
    {
     "data": {
      "text/plain": [
       "19"
      ]
     },
     "execution_count": 14,
     "metadata": {},
     "output_type": "execute_result"
    }
   ],
   "source": [
    "current_year = 2024 \n",
    "current_year - graduation_year"
   ]
  },
  {
   "cell_type": "markdown",
   "id": "b52b6f01-bb2e-4f6e-9b38-7fc2287ebff3",
   "metadata": {},
   "source": [
    "7) How many years has Mr. Ahmed been working with law firm 'The Himalya Associates'. Create necesary variables and print the correct number of years in working in the firm"
   ]
  },
  {
   "cell_type": "code",
   "execution_count": 15,
   "id": "89f85e03-a26d-4739-8c56-77726a25d13b",
   "metadata": {},
   "outputs": [
    {
     "data": {
      "text/plain": [
       "9"
      ]
     },
     "execution_count": 15,
     "metadata": {},
     "output_type": "execute_result"
    }
   ],
   "source": [
    "current_year - joining_year"
   ]
  },
  {
   "cell_type": "markdown",
   "id": "9a97e10b-b2dd-45a2-88b0-605c67ddb22b",
   "metadata": {},
   "source": [
    "8)Convert the monthly income of Mr. Ahmed in dollars. Create necesary variables and print the income in dollars."
   ]
  },
  {
   "cell_type": "code",
   "execution_count": 17,
   "id": "70d2076f-c44b-4e77-a136-09ba1ccf89c2",
   "metadata": {},
   "outputs": [],
   "source": [
    "dollar = 277 \n",
    "monthly_income_dollars = monthly_income / dollar"
   ]
  },
  {
   "cell_type": "markdown",
   "id": "4aa5001b-184a-4598-a77d-72c87302ee2f",
   "metadata": {},
   "source": [
    "9) Check if the income in dollars is a float or integer value. if it is float, re-write the code so that income gets converted in integer. print the income in integer type value"
   ]
  },
  {
   "cell_type": "code",
   "execution_count": 24,
   "id": "5de13a45-1610-4638-bc1c-e7cde13f9056",
   "metadata": {},
   "outputs": [
    {
     "name": "stdout",
     "output_type": "stream",
     "text": [
      "722\n"
     ]
    }
   ],
   "source": [
    "type( monthly_income_dollars )\n",
    "monthly_income_dollars = monthly_income // dollar \n",
    "print( monthly_income_dollars)\n"
   ]
  },
  {
   "cell_type": "code",
   "execution_count": 25,
   "id": "1918db67-f999-420d-ba76-ffe649474f90",
   "metadata": {},
   "outputs": [
    {
     "name": "stdout",
     "output_type": "stream",
     "text": [
      "70 kg\n"
     ]
    }
   ],
   "source": [
    "type( weight_g )\n",
    "weight_g = weight_g // 1000\n",
    "print(weight_g,\"kg\")\n"
   ]
  },
  {
   "cell_type": "markdown",
   "id": "dcf4b6dd-5f17-429a-bd9d-a60dad855417",
   "metadata": {},
   "source": [
    "10. Can Rs. 100 be divided equally among 6 students? HINT: % operator (modulo )"
   ]
  },
  {
   "cell_type": "code",
   "execution_count": 27,
   "id": "5998f9dc-b073-4f12-a083-a7340e83aa84",
   "metadata": {},
   "outputs": [
    {
     "data": {
      "text/plain": [
       "4"
      ]
     },
     "execution_count": 27,
     "metadata": {},
     "output_type": "execute_result"
    }
   ],
   "source": [
    "100 % 6 \t"
   ]
  },
  {
   "cell_type": "code",
   "execution_count": null,
   "id": "b688ab4d-a150-4a8f-aa4c-648529e341e1",
   "metadata": {},
   "outputs": [],
   "source": []
  }
 ],
 "metadata": {
  "kernelspec": {
   "display_name": "Python 3 (ipykernel)",
   "language": "python",
   "name": "python3"
  },
  "language_info": {
   "codemirror_mode": {
    "name": "ipython",
    "version": 3
   },
   "file_extension": ".py",
   "mimetype": "text/x-python",
   "name": "python",
   "nbconvert_exporter": "python",
   "pygments_lexer": "ipython3",
   "version": "3.12.7"
  }
 },
 "nbformat": 4,
 "nbformat_minor": 5
}
