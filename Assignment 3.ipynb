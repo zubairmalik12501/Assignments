{
 "cells": [
  {
   "cell_type": "markdown",
   "id": "eea42058-a94f-4d23-8b76-4ea5cc51f2bb",
   "metadata": {},
   "source": [
    "# Name: Zubair Malik,  Assignment: 3"
   ]
  },
  {
   "cell_type": "markdown",
   "id": "1c540ef9-f12f-4455-9863-841478a4b600",
   "metadata": {},
   "source": [
    "## Python If Else "
   ]
  },
  {
   "cell_type": "markdown",
   "id": "902303af-e92c-4b4d-abf4-79bb9fc92d3b",
   "metadata": {},
   "source": [
    "#### A-\tDiscounts and Pricing\n",
    "1.\tCheck Discount Eligibility\n",
    "- Write a program to check if a customer is eligible for a discount. If the total purchase is more than $100, apply a 10% discount and display the final price. Otherwise, display the total price as it is."
   ]
  },
  {
   "cell_type": "code",
   "execution_count": 3,
   "id": "3ef2a7a6-4c96-46e5-a56b-87c68d1318c7",
   "metadata": {},
   "outputs": [
    {
     "name": "stdin",
     "output_type": "stream",
     "text": [
      "Enter Item_1 Price: 50000\n",
      "Enter Item_2 Price: 10000\n",
      "Enter Item_3 Price: 2000\n",
      "Enter Item_4 Price: 5000\n",
      "Enter Item_5 Price: 6000\n"
     ]
    },
    {
     "name": "stdout",
     "output_type": "stream",
     "text": [
      "Total_Purchase_bill: 73000.0\n",
      "Discount applied: 10%\n",
      "Payable_bill: 65700.0\n"
     ]
    }
   ],
   "source": [
    "item_1 = float(input(\"Enter Item_1 Price:\"))\n",
    "item_2 = float(input(\"Enter Item_2 Price:\"))\n",
    "item_3 = float(input(\"Enter Item_3 Price:\"))\n",
    "item_4 = float(input(\"Enter Item_4 Price:\"))\n",
    "item_5 = float(input(\"Enter Item_5 Price:\"))\n",
    "total_purchase =item_1+item_2+item_3+item_4+item_5\n",
    "\n",
    "dollar = 100*280\n",
    "\n",
    "if total_purchase >= dollar:\n",
    "    pay = total_purchase*0.10\n",
    "    print(f\"Total_Purchase_bill: {total_purchase}\")\n",
    "    print(\"Discount applied: 10%\")\n",
    "    print(f\"Payable_bill: {total_purchase-pay}\")\n",
    "else:\n",
    "    print(f\"Payable_bill: {total_purchase}\")"
   ]
  },
  {
   "cell_type": "markdown",
   "id": "97d38916-8368-4e5f-ad2b-ffb37a61bb62",
   "metadata": {},
   "source": [
    "2.\tCalculate Bulk Discount\n",
    "- If a customer buys more than 5 items, apply a 15% discount on the total price. Otherwise, no discount is applied. Display the total price.\n"
   ]
  },
  {
   "cell_type": "code",
   "execution_count": 5,
   "id": "3b57c97e-09fe-4a48-9b32-4f39edd60207",
   "metadata": {},
   "outputs": [
    {
     "name": "stdin",
     "output_type": "stream",
     "text": [
      "Enter buy No Of Items: 6\n",
      "Enter total price: 30000\n"
     ]
    },
    {
     "name": "stdout",
     "output_type": "stream",
     "text": [
      "Total_purchase_bill: 30000.0\n",
      "Discount applied: 15%\n",
      "Payable_bill: 25500.0\n"
     ]
    }
   ],
   "source": [
    "items = float(input(\"Enter buy No Of Items:\"))\n",
    "total_price =float(input(\"Enter total price:\"))\n",
    "\n",
    "if items > 5:\n",
    "    discount= total_price*0.15\n",
    "    print(f\"Total_purchase_bill: {total_price}\")\n",
    "    print(\"Discount applied: 15%\")\n",
    "    print(f\"Payable_bill: {total_price-discount}\")\n",
    "else:\n",
    "    print(f\"payable_bill: {total_price}\")"
   ]
  },
  {
   "cell_type": "markdown",
   "id": "b550b0b6-b33f-4358-8798-c175fcbf69a3",
   "metadata": {},
   "source": [
    "3.\tMembership Discount\n",
    "- Check if the customer is a member (is_member = True). Members get a 20% discount; non-members get a 5% discount. Calculate and print the discounted price."
   ]
  },
  {
   "cell_type": "code",
   "execution_count": 6,
   "id": "2bf9f907-57e7-4b33-8499-4b79d56f9516",
   "metadata": {},
   "outputs": [
    {
     "name": "stdout",
     "output_type": "stream",
     "text": [
      "Total_price: 1000\n",
      "Discount applied: 20%\n",
      "Payable_price: 800.0\n"
     ]
    }
   ],
   "source": [
    "price=1000\n",
    "is_member =True\n",
    "\n",
    "if is_member:\n",
    "    discount=price*0.20\n",
    "    print(f\"Total_price: {price}\")\n",
    "    print(\"Discount applied: 20%\")\n",
    "    print(f\"Payable_price: {price-discount}\")\n",
    "else:\n",
    "    discount = price*0.05\n",
    "    print(f\"Total_price: {price}\")\n",
    "    print(\"Discount applied: 5%\")\n",
    "    print(f\"Payable_price: {price-discount}\")"
   ]
  },
  {
   "cell_type": "markdown",
   "id": "de5fb505-bbcc-4f11-bd26-1ada3f60a5ed",
   "metadata": {},
   "source": [
    "4.\tSeasonal Sale\n",
    "- If today is a holiday (is_holiday = True), apply a 25% discount; otherwise, apply a 10% discount. Calculate the price after discount."
   ]
  },
  {
   "cell_type": "code",
   "execution_count": 9,
   "id": "1c7aa2b4-6b14-4616-864d-43af7a929b5f",
   "metadata": {},
   "outputs": [
    {
     "name": "stdout",
     "output_type": "stream",
     "text": [
      "Total_price: 2000\n",
      "Discount applied: 25%\n",
      "Payable_price: 1500.0\n"
     ]
    }
   ],
   "source": [
    "price =2000\n",
    "is_holiday=True\n",
    "\n",
    "if is_holiday:\n",
    "    discount=price*0.25\n",
    "    print(f\"Total_price: {price}\")\n",
    "    print(\"Discount applied: 25%\")\n",
    "    print(f\"Payable_price: {price-discount}\") \n",
    "else:\n",
    "    discount =price*0.10\n",
    "    print(f\"Total_price: {price}\")\n",
    "    print(\"Discount applied: 10%\")\n",
    "    print(f\"Payable_price: {price-discount}\")"
   ]
  },
  {
   "cell_type": "markdown",
   "id": "c8ce472d-7c75-430d-9b66-523da742285b",
   "metadata": {},
   "source": [
    "5.\tBuy-One-Get-One-Free\n",
    "- If a customer buys an even number of items, they get half of them for free. Otherwise, they pay for all. Calculate the number of items the customer has to pay for.\n"
   ]
  },
  {
   "cell_type": "code",
   "execution_count": 12,
   "id": "8f627ea1-8a48-477e-a894-be5098392ba2",
   "metadata": {},
   "outputs": [
    {
     "name": "stdin",
     "output_type": "stream",
     "text": [
      "Enter Payment: 50000\n",
      "Enter No Of Iterms: 12\n"
     ]
    },
    {
     "name": "stdout",
     "output_type": "stream",
     "text": [
      "Total_bill: 50000.0\n",
      "Discount applied: 50%\n",
      "Payable_bill: 25000.0\n"
     ]
    }
   ],
   "source": [
    "pay=float(input(\"Enter Payment:\"))\n",
    "items=int(input(\"Enter No Of Iterms:\"))\n",
    "\n",
    "if items%2 == 0:\n",
    "    discount =pay*0.50\n",
    "    print(f\"Total_bill: {pay}\")\n",
    "    print(\"Discount applied: 50%\")\n",
    "    print(f\"Payable_bill: {pay-discount}\")\n",
    "else:\n",
    "    print(f\"Total_bill: {pay}\")\n",
    "    "
   ]
  },
  {
   "cell_type": "markdown",
   "id": "a527cc4f-3b5c-4743-81e5-6b58eebb9119",
   "metadata": {},
   "source": [
    "#### B-\tTax Calculations\n",
    "6.\tSales Tax\n",
    "- If the price of an item is greater than $500, apply a luxury tax of 15%. Otherwise, apply a standard tax of 8%. Display the total price after tax."
   ]
  },
  {
   "cell_type": "code",
   "execution_count": 15,
   "id": "d36a8f7e-ab89-413d-a17a-a8d246c562ec",
   "metadata": {},
   "outputs": [
    {
     "name": "stdin",
     "output_type": "stream",
     "text": [
      "Enter Price: 2000000\n"
     ]
    },
    {
     "name": "stdout",
     "output_type": "stream",
     "text": [
      "Total_price: 2000000.0\n",
      "Luxury tax applied: 15%\n",
      "After tax Payable_Price: 1700000.0\n"
     ]
    }
   ],
   "source": [
    "dollar =500*280\n",
    "price=float(input(\"Enter Price:\"))\n",
    "\n",
    "if price > dollar:\n",
    "    tax=price*0.15\n",
    "    print(f\"Total_price: {price}\")\n",
    "    print(\"Luxury tax applied: 15%\")\n",
    "    print(f\"After tax Payable_Price: {price-tax}\")\n",
    "else:\n",
    "    tax = price*0.08\n",
    "    print(f\"Total_price: {price}\")\n",
    "    print(\"tax applied: 8%\")\n",
    "    print(f\"After tax Payable_Price: {price-tax}\")"
   ]
  },
  {
   "cell_type": "markdown",
   "id": "88ea111d-403e-460b-9b4f-521cfbea1921",
   "metadata": {},
   "source": [
    "7.\tIncome Tax\n",
    "- If a person's annual income is above $50,000, they pay 20% tax. Otherwise, they pay 10%. Calculate and display the tax amount."
   ]
  },
  {
   "cell_type": "code",
   "execution_count": 30,
   "id": "97e6a39a-8d12-4a54-8d6b-1c6ed2577a97",
   "metadata": {},
   "outputs": [
    {
     "name": "stdin",
     "output_type": "stream",
     "text": [
      "Enter Annual income: 100000\n"
     ]
    },
    {
     "name": "stdout",
     "output_type": "stream",
     "text": [
      "Annual_Income: 100000.0\n",
      "tax applied: 10%\n",
      "After pay tax: 90000.0\n"
     ]
    }
   ],
   "source": [
    "income = float(input(\"Enter Annual income:\"))\n",
    "dollar=50000*280\n",
    "\n",
    "if income > dollar:\n",
    "    tax=income*0.20\n",
    "    print(f\"Annual_Income: {income}\")\n",
    "    print(\"tax applied: 20%\")\n",
    "    print(f\"After pay tax: {income-tax}\") \n",
    "else:\n",
    "    tax=income*0.10\n",
    "    print(f\"Annual_Income: {income}\")\n",
    "    print(\"tax applied: 10%\")\n",
    "    print(f\"After pay tax: {income-tax}\")\n"
   ]
  },
  {
   "cell_type": "markdown",
   "id": "3707d83a-e2e6-4a06-ab95-ad0a03937d60",
   "metadata": {},
   "source": [
    "8.\tTax Bracket  :\n",
    "Write a program to categorize a person into tax brackets:\n",
    "-\tIncome < $30,000: \"Low Tax\"\n",
    "-\t$30,000 ≤ Income < $100,000: \"Medium Tax\"\n",
    "-\tIncome ≥ $100,000: \"High Tax\"\n"
   ]
  },
  {
   "cell_type": "code",
   "execution_count": 33,
   "id": "273e2568-c21d-4664-a96f-1ff7c72b789e",
   "metadata": {},
   "outputs": [
    {
     "name": "stdin",
     "output_type": "stream",
     "text": [
      "Enter Monthly Income: 5000000\n"
     ]
    },
    {
     "name": "stdout",
     "output_type": "stream",
     "text": [
      "Monthly_Income: 5000000.0\n",
      "tax applied: 20%\n",
      "After tax Monthly_income: 4000000.0\n"
     ]
    }
   ],
   "source": [
    "income =float(input(\"Enter Monthly Income:\"))\n",
    "\n",
    "if income <30000:\n",
    "    tax=income*0.05\n",
    "    print(f\"Monthly_Income: {income}\")\n",
    "    print(\"tax applied: 5%\")\n",
    "    print(f\"After tax Monthly_income: {income-tax}\")\n",
    "else:\n",
    "    pass\n",
    "\n",
    "if 30000 <= income < 1000000:\n",
    "    tax=income*0.10\n",
    "    print(f\"Monthly_Income: {income}\")\n",
    "    print(\"tax applied: 10%\")\n",
    "    print(f\"After tax Monthly_income: {income-tax}\")\n",
    "else:\n",
    "    pass\n",
    "\n",
    "if income >= 1000000:\n",
    "    tax=income*0.20\n",
    "    print(f\"Monthly_Income: {income}\")\n",
    "    print(\"tax applied: 20%\")\n",
    "    print(f\"After tax Monthly_income: {income-tax}\")\n",
    "else:\n",
    "    pass"
   ]
  },
  {
   "cell_type": "markdown",
   "id": "2d2b7ee3-a470-42b7-8ae7-69243ef202fd",
   "metadata": {},
   "source": [
    "9.\tVAT Calculation\n",
    "- If the item is marked as essential (is_essential = True), apply a VAT of 5%. Otherwise, apply a VAT of 12%. Display the final price."
   ]
  },
  {
   "cell_type": "code",
   "execution_count": 36,
   "id": "8acbe239-688c-4635-9bc5-1f34c95dd181",
   "metadata": {},
   "outputs": [
    {
     "name": "stdin",
     "output_type": "stream",
     "text": [
      "Enter total price: 10000\n"
     ]
    },
    {
     "name": "stdout",
     "output_type": "stream",
     "text": [
      "Total_price: 10000.0\n",
      "VAT applied: 5%\n",
      "Final_price: 10500.0\n"
     ]
    }
   ],
   "source": [
    "price=float(input(\"Enter total price:\"))\n",
    "is_essential =True\n",
    "\n",
    "if is_essential:\n",
    "    vat=price*0.05\n",
    "    print(f\"Total_price: {price}\")\n",
    "    print(\"VAT applied: 5%\")\n",
    "    print(f\"Final_price: {price+vat}\")\n",
    "else:\n",
    "    vat=price*0.12\n",
    "    print(f\"Total_price: {price}\")\n",
    "    print(\"VAT applied: 12%\")\n",
    "    print(f\"Final_price: {price+vat}\")"
   ]
  },
  {
   "cell_type": "markdown",
   "id": "59b8f23c-d5be-4da4-8326-2656c42c151c",
   "metadata": {},
   "source": [
    "10.\tTax-Free Day\n",
    "- If today is a tax-free day (tax_free = True), display the original price. Otherwise, add a 7% tax."
   ]
  },
  {
   "cell_type": "code",
   "execution_count": 37,
   "id": "8f163bb9-5651-4c57-8588-8405d59319de",
   "metadata": {},
   "outputs": [
    {
     "name": "stdin",
     "output_type": "stream",
     "text": [
      "Enter Total Price: 20000\n"
     ]
    },
    {
     "name": "stdout",
     "output_type": "stream",
     "text": [
      "Original_price: 20000.0\n"
     ]
    }
   ],
   "source": [
    "price= float(input(\"Enter Total Price:\"))\n",
    "tax_free=True\n",
    "\n",
    "if tax_free:\n",
    "    print(f\"Original_price: {price}\")\n",
    "else:\n",
    "    tax = price*0.07\n",
    "    print(f\"Original_price: {price}\")\n",
    "    print(\"Tax applied: 7%\")\n",
    "    print(f\"After tax Original_price: {price+tax}\")"
   ]
  },
  {
   "cell_type": "markdown",
   "id": "28f574c1-d1c1-4468-9170-6e79308419d0",
   "metadata": {},
   "source": [
    "#### C-\tShopping and Billing\n",
    "11.\tFree Shipping\n",
    "- If the total purchase amount is more than 50 dollars, offer free shipping; otherwise, charge 5 dollar for shipping. Display the total amount including shipping.\n"
   ]
  },
  {
   "cell_type": "code",
   "execution_count": 38,
   "id": "126b63b5-a34f-4e86-8c3a-6de37208f912",
   "metadata": {},
   "outputs": [
    {
     "name": "stdin",
     "output_type": "stream",
     "text": [
      "Enter Total Purchase Amount: 1000\n"
     ]
    },
    {
     "name": "stdout",
     "output_type": "stream",
     "text": [
      "\n",
      "          Your Purchase amount is 1000.0\n",
      "          Your shipping amount is 1400\n",
      "          Your payable bill is 2400.0\n",
      "          \n"
     ]
    }
   ],
   "source": [
    "dollars=50*280\n",
    "pur_amount=float(input(\"Enter Total Purchase Amount:\"))\n",
    "\n",
    "if pur_amount >dollars:\n",
    "    print(\"MAll Offers You free Shipping!\")\n",
    "    print(f\"Your Payable bill is {pur_amount}\")\n",
    "else:\n",
    "    dollar=5*280\n",
    "    print(f\"\"\"\n",
    "          Your Purchase amount is {pur_amount}\n",
    "          Your shipping amount is {dollar}\n",
    "          Your payable bill is {pur_amount + dollar}\n",
    "          \"\"\")"
   ]
  },
  {
   "cell_type": "markdown",
   "id": "e8b4247d-c519-4890-9325-883bde9110a3",
   "metadata": {},
   "source": [
    "12.\tDiscount Code\n",
    "- If a customer enters the correct discount code (DISCOUNT10), apply a 10% discount. Otherwise, charge the full amount."
   ]
  },
  {
   "cell_type": "code",
   "execution_count": 40,
   "id": "8823e4c3-bb36-47d6-ad19-dfad30d545d7",
   "metadata": {},
   "outputs": [
    {
     "name": "stdin",
     "output_type": "stream",
     "text": [
      "Enter Total Amount: 50000\n",
      "Enter discount code: discount10\n"
     ]
    },
    {
     "name": "stdout",
     "output_type": "stream",
     "text": [
      "You get 10% discount!\n",
      "Your Total amount is 50000.0\n",
      "After discount your bill is 45000.0\n"
     ]
    }
   ],
   "source": [
    "total_amount=float(input(\"Enter Total Amount:\"))\n",
    "dis_code=input(\"Enter discount code:\")\n",
    "\n",
    "if dis_code.upper() == \"DISCOUNT10\":\n",
    "    discount =total_amount*0.10\n",
    "    print(\"You get 10% discount!\")\n",
    "    print(f\"Your Total amount is {total_amount}\")\n",
    "    print(f\"After discount your bill is {total_amount-discount}\")\n",
    "\n",
    "else:\n",
    "    print(\"You donot get any discount!\")\n",
    "    print(f\"your payable bill is {total_amount}\")"
   ]
  },
  {
   "cell_type": "markdown",
   "id": "9ec31f23-5803-4ad5-80d2-c769847f368d",
   "metadata": {},
   "source": [
    "13.\tTiered Discounts\n",
    ": Apply discounts based on the total price:\n",
    "-\t$0–$50: No discount.\n",
    "-\t$50–$100: 10% discount.\n",
    "-\tOver $100: 20% discount."
   ]
  },
  {
   "cell_type": "code",
   "execution_count": 43,
   "id": "b00d9930-ebea-4b96-924f-4c0d89cc7c7a",
   "metadata": {},
   "outputs": [
    {
     "name": "stdin",
     "output_type": "stream",
     "text": [
      "Enter total amount of items: 30000\n"
     ]
    },
    {
     "name": "stdout",
     "output_type": "stream",
     "text": [
      "Your Actual amount: 30000.0\n",
      "Applied 20% discount\n",
      "payable bill: 24000.0\n"
     ]
    }
   ],
   "source": [
    "amount =float(input(\"Enter total amount of items:\"))\n",
    "\n",
    "if amount > (100*280):\n",
    "    discount=amount*0.20\n",
    "    print(f\"Your Actual amount: {amount}\")\n",
    "    print(\"Applied 20% discount\")\n",
    "    print(f\"payable bill: {amount-discount}\")\n",
    "else:\n",
    "    pass\n",
    "\n",
    "if (50*280) < amount < (100*280):\n",
    "    discount=amount*0.10\n",
    "    print(f\"Your Actual amount: {amount}\")\n",
    "    print(\"Applied 10% discount\")\n",
    "    print(f\"payable bill: {amount-discount}\")\n",
    "else:\n",
    "    pass\n",
    "\n",
    "if (0*280) <amount < (50*280):\n",
    "    print(f\"payable bill {amount}\")\n",
    "else:\n",
    "    pass"
   ]
  },
  {
   "cell_type": "markdown",
   "id": "b5d677db-0a3d-4293-8ec6-3efe174f8867",
   "metadata": {},
   "source": [
    "14.\tMinimum Purchase Requirement\n",
    "- If the total amount is less than 20 dollars, display a message: \"Minimum purchase of 20 dollars is required.\" Otherwise, display the total amount."
   ]
  },
  {
   "cell_type": "code",
   "execution_count": 60,
   "id": "a12d90c7-89f8-43ca-9c38-0763aec4afdf",
   "metadata": {},
   "outputs": [
    {
     "name": "stdin",
     "output_type": "stream",
     "text": [
      "Enter total amount of items: 10000\n"
     ]
    },
    {
     "name": "stdout",
     "output_type": "stream",
     "text": [
      "Your Purchase Bill: 10000.0\n"
     ]
    }
   ],
   "source": [
    "purchase =float(input(\"Enter total amount of items:\"))\n",
    "\n",
    "if purchase < (20*280):\n",
    "    print(\"Minimum purchase of 20 dollars is required.\")\n",
    "else:\n",
    "    print(f\"Your Purchase Bill: {purchase}\")"
   ]
  },
  {
   "cell_type": "markdown",
   "id": "141143ba-dcf0-48b9-ae80-400affedb329",
   "metadata": {},
   "source": [
    "15.\tLoyalty Points\n",
    "- If a customer is a loyal member (is_loyal = True), they earn double loyalty points for their purchase. Otherwise, they earn standard points."
   ]
  },
  {
   "cell_type": "code",
   "execution_count": 61,
   "id": "713d2a34-ecd2-456b-b8fa-3b86707937a1",
   "metadata": {},
   "outputs": [
    {
     "name": "stdout",
     "output_type": "stream",
     "text": [
      "You got double loyalty points!\n"
     ]
    }
   ],
   "source": [
    "is_loyal =True\n",
    "\n",
    "if is_loyal:\n",
    "    print(\"You got double loyalty points!\")\n",
    "else:\n",
    "    print(\"You got standard loyalty points!\")\n",
    "    "
   ]
  },
  {
   "cell_type": "markdown",
   "id": "0bfa0f29-0ed0-4ca1-be1a-d6c89b965843",
   "metadata": {},
   "source": [
    "#### D-\tTravel and Tickets\n",
    "\n",
    "16.\tTravel Discount\n",
    "- If a person is traveling more than 500 miles, offer a 20% discount on ticket price. Otherwise, charge the full amount.\n"
   ]
  },
  {
   "cell_type": "code",
   "execution_count": 66,
   "id": "25a0c63d-f743-4b6e-b0db-08970f908f9e",
   "metadata": {},
   "outputs": [
    {
     "name": "stdin",
     "output_type": "stream",
     "text": [
      "Total distance covered in miles: 200\n"
     ]
    },
    {
     "name": "stdout",
     "output_type": "stream",
     "text": [
      "Actual Ticket_price 150.0\n",
      "Discount_Applied 20%\n",
      "Pay Ticket_Price 120.0\n"
     ]
    }
   ],
   "source": [
    "distance=float(input(\"Total distance covered in miles:\"))\n",
    "tic_price=float(150)\n",
    "\n",
    "if distance == 200:\n",
    "    discount=tic_price*0.20\n",
    "    print(f\"Actual Ticket_price {tic_price}\")\n",
    "    print(\"Discount_Applied 20%\")\n",
    "    print(f\"Pay Ticket_Price {tic_price-discount}\")\n",
    "else:\n",
    "    print(f\"Ticket_price {tic_price}\")"
   ]
  },
  {
   "cell_type": "markdown",
   "id": "c5c36f63-8761-4c2c-bd7b-25d064b71456",
   "metadata": {},
   "source": [
    "17.\tChild or Senior Discount\n",
    "- If a passenger is under 12 or over 60 years old, apply a 15% discount on the ticket price. Otherwise, charge the full price.\n"
   ]
  },
  {
   "cell_type": "code",
   "execution_count": 72,
   "id": "38da5f7e-d6ad-4ec8-b8aa-5661150f5364",
   "metadata": {},
   "outputs": [
    {
     "name": "stdin",
     "output_type": "stream",
     "text": [
      "Enter Your age 11\n"
     ]
    },
    {
     "name": "stdout",
     "output_type": "stream",
     "text": [
      "Actual Ticket_Price 150.0\n",
      "Discount Applied 15%\n",
      "Pay Ticket_Price 127.5\n"
     ]
    }
   ],
   "source": [
    "pass_age=float(input(\"Enter Your age\"))\n",
    "tic_price=float(150)\n",
    "\n",
    "if pass_age < 12 or pass_age > 60:\n",
    "    discount=tic_price*0.15\n",
    "    print(f\"Actual Ticket_Price {tic_price}\")\n",
    "    print(\"Discount Applied 15%\")\n",
    "    print(f\"Pay Ticket_Price {tic_price-discount}\")\n",
    "else:\n",
    "    print(f\"Ticket_price {tic_price}\")"
   ]
  },
  {
   "cell_type": "markdown",
   "id": "ae30b51e-a5dc-43da-b6aa-5374ea930293",
   "metadata": {},
   "source": [
    "18.\tTicket Type Pricing\n",
    "- If the ticket is for a weekend (is_weekend = True), add a 10% surcharge. Otherwise, charge the standard price.\n"
   ]
  },
  {
   "cell_type": "code",
   "execution_count": 73,
   "id": "5f99082d-f67d-48a4-895a-f72f36fb6732",
   "metadata": {},
   "outputs": [
    {
     "name": "stdout",
     "output_type": "stream",
     "text": [
      "Actual Ticket_Price 200.0\n",
      "Surcharges Applied 10%\n",
      "Pay Ticket_Price 220.0\n"
     ]
    }
   ],
   "source": [
    "is_weekend=True\n",
    "tic_price =float(200)\n",
    "\n",
    "if is_weekend:\n",
    "    surcharges=tic_price*0.10\n",
    "    print(f\"Actual Ticket_Price {tic_price}\")\n",
    "    print(\"Surcharges Applied 10%\")\n",
    "    print(f\"Pay Ticket_Price {tic_price + surcharges}\")\n",
    "else:\n",
    "    print(f\"Actual Ticket_Price {tic_price}\")"
   ]
  },
  {
   "cell_type": "markdown",
   "id": "6dc6802f-d925-4924-bd0a-000d658e4fc1",
   "metadata": {},
   "source": [
    "19.\tBaggage Fee\n",
    "- If the total baggage weight is over 20kg, charge $10 per extra kilogram. Otherwise, no extra fee.\n"
   ]
  },
  {
   "cell_type": "code",
   "execution_count": 75,
   "id": "7575abd1-ebf1-4c9d-8e03-5fb8e4eab278",
   "metadata": {},
   "outputs": [
    {
     "name": "stdin",
     "output_type": "stream",
     "text": [
      "Enter Total weight: 1000\n"
     ]
    },
    {
     "name": "stdout",
     "output_type": "stream",
     "text": [
      "Total Charges 2000\n",
      "Applied over weight charges 10%\n",
      "Payable Charges 2200.0\n"
     ]
    }
   ],
   "source": [
    "charges=2000\n",
    "bag_weight =float(input(\"Enter Total weight:\"))\n",
    "\n",
    "if bag_weight > 20:\n",
    "    surcharges=charges*(10/100)\n",
    "    print(f\"Total Charges {charges}\")\n",
    "    print(\"Applied over weight charges 10%\")\n",
    "    print(f\"Payable Charges {charges+surcharges}\")\n",
    "else:\n",
    "    print(f\"PAyable Charges {charges}\")"
   ]
  },
  {
   "cell_type": "markdown",
   "id": "8600a97d-82f0-472a-9a84-4c324de092f7",
   "metadata": {},
   "source": [
    "20.\tEarly Bird Discount\n",
    "- If a ticket is booked more than 30 days in advance, apply a 10% discount. Otherwise, charge the full price.\n"
   ]
  },
  {
   "cell_type": "code",
   "execution_count": 77,
   "id": "2a98c636-0997-4fd3-b847-aeb04dc9be78",
   "metadata": {},
   "outputs": [
    {
     "name": "stdin",
     "output_type": "stream",
     "text": [
      "Enter No Of Days Booked Ticket: 50\n"
     ]
    },
    {
     "name": "stdout",
     "output_type": "stream",
     "text": [
      "Actual Ticket_Price 3000.0\n",
      "Discount_Applied 10%\n",
      "Pay Ticket_Price 2700.0\n"
     ]
    }
   ],
   "source": [
    "tic_price=float(3000)\n",
    "no_of_days=float(input(\"Enter No Of Days Booked Ticket:\"))\n",
    "\n",
    "if no_of_days > 30:\n",
    "    discount=tic_price*0.10\n",
    "    print(f\"Actual Ticket_Price {tic_price}\")\n",
    "    print(\"Discount_Applied 10%\")\n",
    "    print(f\"Pay Ticket_Price {tic_price-discount}\")\n",
    "else:\n",
    "    print(f\"Pay Ticket_Price {tic_Price}\")"
   ]
  },
  {
   "cell_type": "markdown",
   "id": "159d63c2-ae49-498d-8a00-2ef88ae18e7f",
   "metadata": {},
   "source": [
    "#### E-\tGrades and Performance\n",
    "\n",
    "21.\tPass or Fail\n",
    "- If a student scores 40 or more, print \"Pass\". Otherwise, print \"Fail\".\n"
   ]
  },
  {
   "cell_type": "code",
   "execution_count": 83,
   "id": "793b16a5-027d-4d8f-837c-2e04d467fa1e",
   "metadata": {},
   "outputs": [
    {
     "name": "stdin",
     "output_type": "stream",
     "text": [
      "Enter Your Scores: 40\n"
     ]
    },
    {
     "name": "stdout",
     "output_type": "stream",
     "text": [
      "You are Pass!\n"
     ]
    }
   ],
   "source": [
    "score=float(input(\"Enter Your Scores:\"))\n",
    "\n",
    "if score >= 40:\n",
    "    print(\"You are Pass!\")\n",
    "else:\n",
    "    print(\"You are fail!\")"
   ]
  },
  {
   "cell_type": "markdown",
   "id": "7a1f892a-7b14-4a7a-8ecc-115c6d254839",
   "metadata": {},
   "source": [
    "22.\tGrade Assignment\n",
    ":Based on a student's score, assign grades:\n",
    "-    90 and above: \"A\"\n",
    "-\t75–89: \"B\"\n",
    "-\t50–74: \"C\"\n",
    "-\tBelow 50: \"F\""
   ]
  },
  {
   "cell_type": "code",
   "execution_count": 88,
   "id": "7d70a0ca-7fdd-4283-889c-f9e37c9e354b",
   "metadata": {},
   "outputs": [
    {
     "name": "stdin",
     "output_type": "stream",
     "text": [
      "Enter Your Percentage: 78\n"
     ]
    },
    {
     "name": "stdout",
     "output_type": "stream",
     "text": [
      "You got B Grsge!\n"
     ]
    }
   ],
   "source": [
    "per=float(input(\"Enter Your Percentage:\"))\n",
    "\n",
    "if per > 90:\n",
    "    print(\"You got A Grade\")\n",
    "else:\n",
    "    pass\n",
    "\n",
    "if 75 < per < 89:\n",
    "    print(\"You got B Grsge!\")\n",
    "else:\n",
    "    pass\n",
    "\n",
    "if 50 < per < 74:\n",
    "    print(\"You got C Grade!\")\n",
    "else:\n",
    "    pass\n",
    "\n",
    "if per < 50:\n",
    "    print(\"You Are Fail!\")\n",
    "else:\n",
    "    pass"
   ]
  },
  {
   "cell_type": "markdown",
   "id": "fb2755be-2065-4b40-8d2c-9b443165b9d3",
   "metadata": {},
   "source": [
    "23.\tBonus Marks\n",
    "- If a student completes all assignments, add 5 bonus marks to their score. Otherwise, no bonus marks.\n"
   ]
  },
  {
   "cell_type": "code",
   "execution_count": 91,
   "id": "b88a7b96-7b46-42da-9f33-9f3e635a3139",
   "metadata": {},
   "outputs": [
    {
     "name": "stdin",
     "output_type": "stream",
     "text": [
      "Enter Your complete Assignment: 5\n"
     ]
    },
    {
     "name": "stdout",
     "output_type": "stream",
     "text": [
      "You get 5 marks bonus!\n"
     ]
    }
   ],
   "source": [
    "stu_ass=float(input(\"Enter Your complete Assignment:\"))\n",
    "total_ass=float(5)\n",
    "\n",
    "if stu_ass == total_ass:\n",
    "    print(\"You get 5 marks bonus!\")\n",
    "else:print(\"You donot get any bonus marks!\")"
   ]
  },
  {
   "cell_type": "markdown",
   "id": "032b5ba1-7adb-4fd8-ab82-677df898767f",
   "metadata": {},
   "source": [
    "24.\tAttendance Eligibility\n",
    "- If a student's attendance is 75% or more, they are eligible to take the exam. Otherwise, they are not.\n"
   ]
  },
  {
   "cell_type": "code",
   "execution_count": 95,
   "id": "8a39a850-a37d-48c8-a098-e6fee1409611",
   "metadata": {},
   "outputs": [
    {
     "name": "stdin",
     "output_type": "stream",
     "text": [
      "Enter No Of Attendence: 79\n"
     ]
    },
    {
     "name": "stdout",
     "output_type": "stream",
     "text": [
      "You Are Eligible For Exam!\n"
     ]
    }
   ],
   "source": [
    "stu_atten= float(input(\"Enter No Of Attendence:\"))\n",
    "\n",
    "if stu_atten >= 75:\n",
    "    print(\"You Are Eligible For Exam!\")\n",
    "else:\n",
    "    print(\"You Are Not Eligible For Exam!\")"
   ]
  },
  {
   "cell_type": "markdown",
   "id": "2c582c2e-4524-44e9-ad22-a0746604cdc9",
   "metadata": {},
   "source": [
    "25.\tScholarship Eligibility\n",
    "- If a student's grade is \"A\" and their annual family income is below $30,000, they are eligible for a scholarship. Otherwise, they are not.\n"
   ]
  },
  {
   "cell_type": "code",
   "execution_count": 98,
   "id": "0af33fb0-ee20-4b01-b615-e66c5b0e5201",
   "metadata": {},
   "outputs": [
    {
     "name": "stdin",
     "output_type": "stream",
     "text": [
      "Enter Your Grade: a\n",
      "Enter total annual income: 25000\n"
     ]
    },
    {
     "name": "stdout",
     "output_type": "stream",
     "text": [
      "You Are Eligible for a Scholarship!\n"
     ]
    }
   ],
   "source": [
    "grade=input(\"Enter Your Grade:\")\n",
    "annual_income=float(input(\"Enter total annual income:\"))\n",
    "\n",
    "if grade.upper() == \"A\" and annual_income < 30000:\n",
    "    print(\"You Are Eligible for a Scholarship!\")\n",
    "else:\n",
    "        print(\"You Are Not Eligible for a Scholarship!\")\n"
   ]
  },
  {
   "cell_type": "markdown",
   "id": "5283e4cd-a3cb-4a3f-84b8-4067be304310",
   "metadata": {},
   "source": [
    "# *THE END*"
   ]
  }
 ],
 "metadata": {
  "kernelspec": {
   "display_name": "Python 3 (ipykernel)",
   "language": "python",
   "name": "python3"
  },
  "language_info": {
   "codemirror_mode": {
    "name": "ipython",
    "version": 3
   },
   "file_extension": ".py",
   "mimetype": "text/x-python",
   "name": "python",
   "nbconvert_exporter": "python",
   "pygments_lexer": "ipython3",
   "version": "3.12.7"
  }
 },
 "nbformat": 4,
 "nbformat_minor": 5
}
