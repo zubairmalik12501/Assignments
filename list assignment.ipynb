{
 "cells": [
  {
   "cell_type": "markdown",
   "id": "f1a93aff-6be8-4b77-a0d3-59941156c110",
   "metadata": {},
   "source": [
    "# List Assignment"
   ]
  },
  {
   "cell_type": "raw",
   "id": "69097188-ffcc-4f10-b045-46bfc86473a0",
   "metadata": {},
   "source": [
    "1. Write a program that accepts a list from user and print the alternate element of list. "
   ]
  },
  {
   "cell_type": "code",
   "execution_count": 3,
   "id": "8328a51c-15f5-412d-8173-e12862be8f06",
   "metadata": {},
   "outputs": [
    {
     "name": "stdin",
     "output_type": "stream",
     "text": [
      "Enter elements of the list separated by space:  3 2 1\n"
     ]
    },
    {
     "data": {
      "text/plain": [
       "['3', '2', '1']"
      ]
     },
     "execution_count": 3,
     "metadata": {},
     "output_type": "execute_result"
    }
   ],
   "source": [
    "alist = input(\"Enter elements of the list separated by space: \")\n",
    "alist = alist.split()\n",
    "alist\n"
   ]
  },
  {
   "cell_type": "raw",
   "id": "e87fdbc9-6eef-4ed2-97cf-539a00767734",
   "metadata": {},
   "source": [
    "Write a program that accepts a list from user. Your program should reverse the content of list and\n",
    "display it. Do not use reverse() method. "
   ]
  },
  {
   "cell_type": "code",
   "execution_count": 5,
   "id": "42f29e0a-1252-449d-8832-25b4a700ac01",
   "metadata": {},
   "outputs": [
    {
     "name": "stdin",
     "output_type": "stream",
     "text": [
      "Enter elements of the list separated by space:  1 2 3\n"
     ]
    },
    {
     "data": {
      "text/plain": [
       "['3', '2', '1']"
      ]
     },
     "execution_count": 5,
     "metadata": {},
     "output_type": "execute_result"
    }
   ],
   "source": [
    "alist = input(\"Enter elements of the list separated by space: \")\n",
    "alist = alist.split()\n",
    "alist[::-1]\n"
   ]
  },
  {
   "cell_type": "markdown",
   "id": "7d21c29d-5292-4d6f-aa00-1a62f9c17f76",
   "metadata": {},
   "source": [
    " 3. Find and display the largest number of a list without using built-in function max(). Your program\n",
    "should ask the user to input values in list from keyboard. \n"
   ]
  },
  {
   "cell_type": "code",
   "execution_count": 7,
   "id": "a1f2f077-258a-4820-ac9a-4245dbe8c818",
   "metadata": {},
   "outputs": [
    {
     "name": "stdin",
     "output_type": "stream",
     "text": [
      "Enter elements of the list separated by space:  4 3 2 1\n"
     ]
    },
    {
     "name": "stdout",
     "output_type": "stream",
     "text": [
      "4\n"
     ]
    }
   ],
   "source": [
    "nums=[]\n",
    "number=input(\"Enter elements of the list separated by space: \")\n",
    "for i in number.split():\n",
    "    if \".\" in i:\n",
    "        nums.append(float(i))\n",
    "    else:\n",
    "       nums.append(int(i))\n",
    "nums1=sorted(nums)\n",
    "print(nums1[-1])\n",
    "    \n"
   ]
  },
  {
   "cell_type": "raw",
   "id": "749ef2e1-7d33-4a82-b16e-f8d213622a1d",
   "metadata": {},
   "source": [
    " 4. Write a program that rotates the element of a list so that the element at the first index moves to the\n",
    "second index, the element in the second index moves to the third index, etc., and the element in the last\n",
    "index moves to the first index. "
   ]
  },
  {
   "cell_type": "code",
   "execution_count": 9,
   "id": "92b63f15-11b5-4cf2-8f13-aef52f25a98f",
   "metadata": {},
   "outputs": [
    {
     "name": "stdin",
     "output_type": "stream",
     "text": [
      "Enter list elements separated by space:  a b c\n"
     ]
    }
   ],
   "source": [
    "lst=input(\"Enter list elements separated by space: \")\n",
    "lst=lst.split()\n",
    "lst1=lst[-1:] + lst[:-1]"
   ]
  },
  {
   "cell_type": "code",
   "execution_count": 11,
   "id": "5b5fa00e-567f-4084-aa73-a064121aed9e",
   "metadata": {},
   "outputs": [
    {
     "data": {
      "text/plain": [
       "['c', 'a', 'b']"
      ]
     },
     "execution_count": 11,
     "metadata": {},
     "output_type": "execute_result"
    }
   ],
   "source": [
    "lst1"
   ]
  },
  {
   "cell_type": "raw",
   "id": "ef870044-702e-4fdd-87ed-246070854ac2",
   "metadata": {},
   "source": [
    "5. Write a program that input a string and ask user to delete a given word from a string. \n"
   ]
  },
  {
   "cell_type": "code",
   "execution_count": 13,
   "id": "be0d665e-18d5-4ad7-b982-240ca6c4787b",
   "metadata": {},
   "outputs": [
    {
     "name": "stdin",
     "output_type": "stream",
     "text": [
      "Enter list elements separated by space:  ZAKARIYA MAJID KHAN\n",
      "Enter a word to delete:  KHAN\n"
     ]
    },
    {
     "data": {
      "text/plain": [
       "['ZAKARIYA', 'MAJID']"
      ]
     },
     "execution_count": 13,
     "metadata": {},
     "output_type": "execute_result"
    }
   ],
   "source": [
    "lst=input(\"Enter list elements separated by space: \")\n",
    "lst=lst.split()\n",
    "word=input(\"Enter a word to delete: \")\n",
    "lst.remove(word)\n",
    "lst"
   ]
  },
  {
   "cell_type": "raw",
   "id": "efd6e7c6-96cb-4c61-acaf-b1989be54c0e",
   "metadata": {},
   "source": [
    "6. Write a program that reads a string from the user containing a date in the form mm/dd/yyyy. It\n",
    "should print the date in the form March 12, 2021. "
   ]
  },
  {
   "cell_type": "code",
   "execution_count": 17,
   "id": "a6e2bfcb-86b5-4e57-84d2-03183de3860d",
   "metadata": {},
   "outputs": [
    {
     "name": "stdin",
     "output_type": "stream",
     "text": [
      "Enter a date in the form of mm/dd/yyyy:  june/10/2005\n"
     ]
    },
    {
     "name": "stdout",
     "output_type": "stream",
     "text": [
      "Date : june 10, 2005\n"
     ]
    }
   ],
   "source": [
    "date_of_birth = input(\"Enter a date in the form of mm/dd/yyyy: \")\n",
    "date_of_birth=date_of_birth.split('/')\n",
    "month=date_of_birth[0]\n",
    "date=date_of_birth[1]\n",
    "year=date_of_birth[2]\n",
    "print(f\"Date : {month} {date}, {year}\")"
   ]
  },
  {
   "cell_type": "raw",
   "id": "0d1b6df3-1817-40fa-bda9-86603846594e",
   "metadata": {},
   "source": [
    " 7. Write a program with a function that accepts a string from keyboard and create a new string after\n",
    "converting character of each word capitalized. For instance, if the sentence is \"stop and smell the roses.\"\n",
    "the output should be \"Stop And Smell The Roses\" "
   ]
  },
  {
   "cell_type": "code",
   "execution_count": 35,
   "id": "decab2fe-83c8-4be8-a1c6-26628d8c6191",
   "metadata": {},
   "outputs": [
    {
     "name": "stdin",
     "output_type": "stream",
     "text": [
      "Enter a sentence:  stop and smell the roses\n"
     ]
    },
    {
     "name": "stdout",
     "output_type": "stream",
     "text": [
      "Capitalized sentence: Stop And Smell The Roses\n"
     ]
    }
   ],
   "source": [
    "def capitalize_words(sentence):\n",
    "    return ' '.join([word.capitalize() for word in sentence.split()])\n",
    "input_sentence = input(\"Enter a sentence: \")\n",
    "capitalized_sentence = capitalize_words(input_sentence)\n",
    "print(\"Capitalized sentence:\", capitalized_sentence)\n"
   ]
  },
  {
   "cell_type": "raw",
   "id": "4e34493d-be56-45d8-85f8-61122c0c8c33",
   "metadata": {},
   "source": [
    "8. Find the sum of each row of matrix of size m x n. For example for the following matrix output will be\n",
    "like this : "
   ]
  },
  {
   "cell_type": "code",
   "execution_count": 41,
   "id": "3ee18d3d-3c76-4874-ab49-a71b8e975239",
   "metadata": {},
   "outputs": [
    {
     "name": "stdout",
     "output_type": "stream",
     "text": [
      "32\n",
      "31\n",
      "63\n"
     ]
    }
   ],
   "source": [
    "matrix=[[2,11,7,12],\n",
    "        [5,2,9,15],\n",
    "        [8,3,10,42]]\n",
    "sum_row1=sum(matrix[0])\n",
    "sum_row2=sum(matrix[1])\n",
    "sum_row3=sum(matrix[2])\n",
    "print(sum_row1)\n",
    "print(sum_row2)\n",
    "print(sum_row3)"
   ]
  },
  {
   "cell_type": "raw",
   "id": "7615cf6d-a165-4d80-b1aa-355992272fa9",
   "metadata": {},
   "source": [
    "9. Write a program to add two matrices of size n x m. \n"
   ]
  },
  {
   "cell_type": "markdown",
   "id": "92e616e7-859a-4a94-b13a-a8b32e0e9429",
   "metadata": {},
   "source": [
    "# *THE END!*"
   ]
  }
 ],
 "metadata": {
  "kernelspec": {
   "display_name": "Python 3 (ipykernel)",
   "language": "python",
   "name": "python3"
  },
  "language_info": {
   "codemirror_mode": {
    "name": "ipython",
    "version": 3
   },
   "file_extension": ".py",
   "mimetype": "text/x-python",
   "name": "python",
   "nbconvert_exporter": "python",
   "pygments_lexer": "ipython3",
   "version": "3.12.7"
  }
 },
 "nbformat": 4,
 "nbformat_minor": 5
}
