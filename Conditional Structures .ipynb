{
 "cells": [
  {
   "cell_type": "markdown",
   "id": "5afe56d8-4564-41ed-9a19-4f477bea629c",
   "metadata": {},
   "source": [
    "# Conditional Structures : ASSIGNMENT"
   ]
  },
  {
   "cell_type": "raw",
   "id": "917eb6be-1682-401d-b0ca-fcc1a48e744f",
   "metadata": {},
   "source": [
    "1. Write a program that prompts the user to input a number and display if the number\n",
    "is even or odd."
   ]
  },
  {
   "cell_type": "code",
   "execution_count": 1,
   "id": "54536522-4098-4c03-b939-5c65c1f61b9f",
   "metadata": {},
   "outputs": [
    {
     "name": "stdin",
     "output_type": "stream",
     "text": [
      "Please enter a number:  9\n"
     ]
    },
    {
     "name": "stdout",
     "output_type": "stream",
     "text": [
      "Odd number\n"
     ]
    }
   ],
   "source": [
    "number = int(input(\"Please enter a number: \"))\n",
    "if number % 2 == 0:\n",
    "    print(\"Even number\")\n",
    "else:\n",
    "    print(\"Odd number\")\n"
   ]
  },
  {
   "cell_type": "raw",
   "id": "37cc8547-e3ef-4a15-9a0f-d9c7e855dc12",
   "metadata": {},
   "source": [
    " 2. Write a Python program that takes an age as input and determines whether a person\n",
    "is eligible to vote. If the age is 18 or above, print \"You are eligible to vote.\" Otherwise,\n",
    "print \"You are not eligible to vote yet.\"."
   ]
  },
  {
   "cell_type": "code",
   "execution_count": 3,
   "id": "dc7f32b2-c83d-4290-88d8-1bca4cde528d",
   "metadata": {},
   "outputs": [
    {
     "name": "stdin",
     "output_type": "stream",
     "text": [
      "Please enter your age:  19\n"
     ]
    },
    {
     "name": "stdout",
     "output_type": "stream",
     "text": [
      "You are eligible for vote.\n"
     ]
    }
   ],
   "source": [
    "age = int(input(\"Please enter your age: \"))\n",
    "if age >= 18:\n",
    "    print(\"You are eligible for vote.\")\n",
    "else:\n",
    "    print(\"You are not eligible for vote yet.\")\n"
   ]
  },
  {
   "cell_type": "raw",
   "id": "00af75d1-237f-471c-8406-322cd5c96642",
   "metadata": {},
   "source": [
    "3. Write a program that prompts the user to input two integers and outputs the largest. "
   ]
  },
  {
   "cell_type": "code",
   "execution_count": 5,
   "id": "ab087883-1651-4d74-b16c-a5ff8f737a53",
   "metadata": {},
   "outputs": [
    {
     "name": "stdin",
     "output_type": "stream",
     "text": [
      "Enter the first integer:  4\n",
      "Enter the second integer:  5\n"
     ]
    },
    {
     "name": "stdout",
     "output_type": "stream",
     "text": [
      "num2 is greater than num1\n"
     ]
    }
   ],
   "source": [
    "num1 = int(input(\"Enter the first integer: \"))\n",
    "num2 = int(input(\"Enter the second integer: \"))\n",
    "if num1 > num2:\n",
    "    print(\"num1 is greater than num2\")\n",
    "elif num2 > num1:\n",
    "    print(\"num2 is greater than num1\")\n",
    "else:\n",
    "    print(\"Both numbers are equal\")\n"
   ]
  },
  {
   "cell_type": "raw",
   "id": "b78bad1c-5bce-498e-8a5c-84fa108e1c97",
   "metadata": {},
   "source": [
    "4. Write a program that prompts the user to enter a number and determines whether it\n",
    "is positive, negative, or zero. The program should print \"Positive\" if the number is\n",
    "greater than 0, \"Negative\" if the number is less than 0, and \"Zero\" if the number is 0."
   ]
  },
  {
   "cell_type": "code",
   "execution_count": 7,
   "id": "0129aa97-6557-482f-a54f-24ad337fd0ea",
   "metadata": {},
   "outputs": [
    {
     "name": "stdin",
     "output_type": "stream",
     "text": [
      "Enter a number:  -2\n"
     ]
    },
    {
     "name": "stdout",
     "output_type": "stream",
     "text": [
      "The number is Negative\n"
     ]
    }
   ],
   "source": [
    "number = float(input(\"Enter a number: \"))\n",
    "if number > 0:\n",
    "    print(\"The number is Positive\")\n",
    "elif number < 0:\n",
    "    print(\"The number is Negative\")\n",
    "else:\n",
    "    print(\"The number is Zero\")\n"
   ]
  },
  {
   "cell_type": "raw",
   "id": "631eab52-6339-4e0a-9463-4edb5b510506",
   "metadata": {},
   "source": [
    "5. Write a program that prompts the user to enter their age and prints the\n",
    "corresponding age group. The program should use the following age groups:\n",
    "0-12: Child\n",
    "13-19: Teenager\n",
    "20-59: Adult\n",
    "60 and above: Senior Citizen "
   ]
  },
  {
   "cell_type": "code",
   "execution_count": 9,
   "id": "6d21e708-d015-4b52-89e9-dfcaa922dfca",
   "metadata": {},
   "outputs": [
    {
     "name": "stdin",
     "output_type": "stream",
     "text": [
      "Enter your age:  19\n"
     ]
    },
    {
     "name": "stdout",
     "output_type": "stream",
     "text": [
      "Teenager\n"
     ]
    }
   ],
   "source": [
    "age = int(input(\"Enter your age: \"))\n",
    "if 0 < age <= 12:\n",
    "    print(\"Child\")\n",
    "elif 13 < age <= 19:\n",
    "    print(\"Teenager\")\n",
    "elif 20 < age <= 59:\n",
    "    print(\"Adult\")\n",
    "else:\n",
    "    print(\"Senior Citizen\")\n",
    "\n"
   ]
  },
  {
   "cell_type": "raw",
   "id": "12c18ca9-7342-4f8d-a4cb-4de0e44cefc1",
   "metadata": {},
   "source": [
    "6. Write a program that prompts the user to input a number from 1 to 7. The program\n",
    "should display the corresponding day for the given number. For example, if the user\n",
    "types 1, the output should be Sunday. If the user types 7, the output should be\n",
    "Saturday. If the number is not between 1 to 7 user should get error message as shown\n",
    "in sample output. \n"
   ]
  },
  {
   "cell_type": "code",
   "execution_count": 11,
   "id": "ce042dfe-8bbf-465e-a348-eeaa3ec80095",
   "metadata": {},
   "outputs": [
    {
     "name": "stdin",
     "output_type": "stream",
     "text": [
      "Enter a number between 1 and 7:  5\n"
     ]
    },
    {
     "name": "stdout",
     "output_type": "stream",
     "text": [
      "Thursday\n"
     ]
    }
   ],
   "source": [
    "days = int(input(\"Enter a number between 1 and 7: \"))\n",
    "if days == 1:\n",
    "    print(\"Sunday\")\n",
    "elif days == 2:\n",
    "    print(\"Monday\")\n",
    "elif days == 3:\n",
    "    print(\"Tuesday\")\n",
    "elif days == 4:\n",
    "    print(\"Wednesday\")\n",
    "elif days == 5:\n",
    "    print(\"Thursday\")\n",
    "elif days == 6:\n",
    "    print(\"Friday\")\n",
    "elif days == 7:\n",
    "    print(\"Saturday\")\n",
    "else:\n",
    "    print(f\"Please enter a number between 1 and 7.\")\n"
   ]
  },
  {
   "cell_type": "raw",
   "id": "b0977eb9-43bf-46f7-b83c-5d39bec5f51e",
   "metadata": {},
   "source": [
    "7. Write a program that prompts the user to enter their weight (in kilograms) and height\n",
    "(in meters). The program should calculate the Body Mass Index (BMI) using the formula:\n",
    "BMI = weight / (height * height). The program should then classify the BMI.\n",
    "following categories:\n",
    "less than 18.5 - Underweight\n",
    "BMI between 18.5 and 24.9 - Normal weight\n",
    "BMI between 25 and 29.9 - Overweight\n",
    "BMI 30 or greater - Obesity \n"
   ]
  },
  {
   "cell_type": "code",
   "execution_count": 13,
   "id": "0538a695-70ab-4b3e-bee0-1db744a7550b",
   "metadata": {},
   "outputs": [
    {
     "name": "stdin",
     "output_type": "stream",
     "text": [
      "Enter your weight in kilograms:  50\n",
      "Enter your height in meters:  5.9\n"
     ]
    },
    {
     "name": "stdout",
     "output_type": "stream",
     "text": [
      "Underweight\n"
     ]
    }
   ],
   "source": [
    "weight = float(input(\"Enter your weight in kilograms: \"))\n",
    "height = float(input(\"Enter your height in meters: \"))\n",
    "bmi = weight / (height * height)\n",
    "if bmi < 18.5:\n",
    "    print(\"Underweight\")\n",
    "elif 18.5 < bmi < 25:\n",
    "    print(\"Normal weight\")\n",
    "elif 25 < bmi < 30:\n",
    "    print(\"Overweight\")\n",
    "else:\n",
    "    print(\"Obesity\")\n"
   ]
  },
  {
   "cell_type": "raw",
   "id": "e1bdd550-9a60-4382-9b5a-b2856a4896c1",
   "metadata": {},
   "source": [
    "8. The marks obtained by a student in 3 different subjects are input by the user. Your\n",
    "program should calculate the average of subjects and display the grade. The student\n",
    "gets a grade as per the following rules:\n",
    "Average Grade\n",
    "90-100 A\n",
    "80-89 B\n",
    "70-79 C "
   ]
  },
  {
   "cell_type": "code",
   "execution_count": 19,
   "id": "94458698-0394-466b-bacb-e5360431ab1f",
   "metadata": {},
   "outputs": [
    {
     "name": "stdin",
     "output_type": "stream",
     "text": [
      "Enter the marks for subject 1:  88\n",
      "Enter the marks for subject 2:  92\n",
      "Enter the marks for subject 3:  78\n"
     ]
    },
    {
     "name": "stdout",
     "output_type": "stream",
     "text": [
      "You got B Grade\n"
     ]
    },
    {
     "data": {
      "text/plain": [
       "86.0"
      ]
     },
     "execution_count": 19,
     "metadata": {},
     "output_type": "execute_result"
    }
   ],
   "source": [
    "subject1 = float(input(\"Enter the marks for subject 1: \"))\n",
    "subject2 = float(input(\"Enter the marks for subject 2: \"))\n",
    "subject3 = float(input(\"Enter the marks for subject 3: \"))\n",
    "average = (subject1 + subject2 + subject3) / 3\n",
    "if average >= 90:\n",
    "    print(\"You got A Grade\")\n",
    "elif 80 < average < 90:\n",
    "    print(\"You got B Grade\")\n",
    "elif 70 < average < 80:\n",
    "    print(\"You got C Grade\")\n",
    "elif 60 < average < 70:\n",
    "    print(\"You got D Grade\")\n",
    "else:\n",
    "    print(\"You are Fail\")\n",
    "average"
   ]
  },
  {
   "cell_type": "raw",
   "id": "57256ab1-7607-4c01-8290-72bddb92464f",
   "metadata": {},
   "source": [
    "9. The roots of the quadratic equation ax2\n",
    " + bx + c = 0, a ≠ 0 are given by the following\n",
    "formula:\n",
    "In this formula, the term b2\n",
    " - 4ac is called the discriminant. If b2\n",
    " - 4ac = 0, then the\n",
    "equation has two equal roots.\n",
    "If b2\n",
    " - 4ac > 0, the equation has two real roots. If b2\n",
    " - 4ac < 0, the equation has two\n",
    "complex roots.\n",
    "Write a program that prompts the user to input the value of a (the coefficient of x2\n",
    "), b\n",
    "(the coefficient of x), and c (the constant term) and outputs the roots of the quadratic\n",
    "equation"
   ]
  },
  {
   "cell_type": "code",
   "execution_count": 21,
   "id": "7554690a-545f-4006-8bca-81e2e8c94cda",
   "metadata": {},
   "outputs": [
    {
     "name": "stdin",
     "output_type": "stream",
     "text": [
      "Enter value a:  2\n",
      "Enter value b:  5\n",
      "Enter value c:  1\n"
     ]
    },
    {
     "name": "stdout",
     "output_type": "stream",
     "text": [
      "The equation has two equal real roots:\n",
      "               root1: -20.615528128088304\n",
      "               root2: 20.615528128088304\n"
     ]
    }
   ],
   "source": [
    "a = float(input(\"Enter value a: \"))\n",
    "b = float(input(\"Enter value b: \"))\n",
    "c = float(input(\"Enter value c: \"))\n",
    "discriminant = b**2 - 4*a*c\n",
    "if discriminant == 0:\n",
    "    root1 = -b * (discriminant**0.5) / 2 * a\n",
    "    root2 = b * (discriminant**0.5) / 2 * a\n",
    "    print(f\"\"\"The equation has two equal roots \n",
    "               root1: {root1} \n",
    "               root2: {root2}\"\"\")\n",
    "elif discriminant > 0:\n",
    "    root1 =  -b * (discriminant**0.5) / 2 * a\n",
    "    root2 = b * (discriminant**0.5) / 2 * a\n",
    "    print(f\"\"\"The equation has two equal real roots:\n",
    "               root1: {root1}\n",
    "               root2: {root2}\"\"\")\n",
    "else:\n",
    "    real_part = -b / (2*a)\n",
    "    img_part = (discriminant)**0.5 / (2*a)\n",
    "    print(f\"\"\"The equation has two complex roots: \n",
    "              root1: {real_part} + {img_part}i \n",
    "              root2: {real_part} -{img_part}i\"\"\")\n"
   ]
  },
  {
   "cell_type": "raw",
   "id": "9f451b89-bec3-4c2c-9bde-ed53daaf614d",
   "metadata": {},
   "source": [
    "10. Write a program that prompts the user to enter three numbers and sorts them in\n",
    "ascending order. The program should print the sorted numbers. \n"
   ]
  },
  {
   "cell_type": "code",
   "execution_count": 23,
   "id": "60117195-5bb8-4bd3-a2e3-34c45ad830dc",
   "metadata": {},
   "outputs": [
    {
     "name": "stdin",
     "output_type": "stream",
     "text": [
      "Enter the first number:  3\n",
      "Enter the second number:  21\n",
      "Enter the third number:  1\n"
     ]
    },
    {
     "name": "stdout",
     "output_type": "stream",
     "text": [
      "Sorted numbers: 1.0, 3.0, 21.0\n"
     ]
    }
   ],
   "source": [
    "num1 = float(input(\"Enter the first number: \"))\n",
    "num2 = float(input(\"Enter the second number: \"))\n",
    "num3 = float(input(\"Enter the third number: \"))\n",
    "if num1 <= num2 and num1 <=num3:\n",
    "    if num2 <= num3:\n",
    "        print(f\"Sorted numbers: {num1}, {num2}, {num3}\")\n",
    "    else:\n",
    "        print(f\"Sorted numbers: {num1}, {num3}, {num2}\")\n",
    "elif num2 <= num1 and num2 <= num3:\n",
    "    if num1 <= num3:\n",
    "        print(f\"Sorted numbers: {num2}, {num1}, {num3}\")\n",
    "    else:\n",
    "        print(f\"Sorted numbers: {num2}, {num3}, {num1}\")\n",
    "else:\n",
    "    if num1 <= num2:\n",
    "        print(f\"Sorted numbers: {num3}, {num1}, {num2}\")\n",
    "    else:\n",
    "        print(f\"Sorted numbers: {num3}, {num2}, {num1}\")\n",
    "\n"
   ]
  },
  {
   "cell_type": "raw",
   "id": "014f2e51-8d77-4f5f-9abd-44d72007f290",
   "metadata": {},
   "source": [
    "11. Write a program that prompts the user to input three integers and outputs the\n",
    "largest. "
   ]
  },
  {
   "cell_type": "code",
   "execution_count": 27,
   "id": "ba9e3ba4-759b-4e21-9dc0-c9ba0acc0d05",
   "metadata": {},
   "outputs": [
    {
     "name": "stdin",
     "output_type": "stream",
     "text": [
      "Enter the first integer:  3\n",
      "Enter the second integer:  2\n",
      "Enter the third integer:  1\n"
     ]
    },
    {
     "name": "stdout",
     "output_type": "stream",
     "text": [
      "Integer 1 is greater than integer 2 and integer 3\n"
     ]
    }
   ],
   "source": [
    "num1 = int(input(\"Enter the first integer: \"))\n",
    "num2 = int(input(\"Enter the second integer: \"))\n",
    "num3 = int(input(\"Enter the third integer: \"))\n",
    "if num1 > num2 and num3:\n",
    "    print(\"Integer 1 is greater than integer 2 and integer 3\")\n",
    "elif num2 > num1 and num3:\n",
    "    print(\"Integer 2 is greater than integer 1 and integer 3\")\n",
    "elif num3 > num1 and num2:\n",
    "    print(\"Integer 3 is greater than integer 1 and integer 2\")\n",
    "else:\n",
    "    print(\"All integers are equal\")\n"
   ]
  },
  {
   "cell_type": "raw",
   "id": "db00deca-f9e6-44a7-9c2a-16f25e314431",
   "metadata": {},
   "source": [
    "12. Write a program that prompts the user to input a character and determine the\n",
    "character is vowel or consonant. "
   ]
  },
  {
   "cell_type": "code",
   "execution_count": 29,
   "id": "d1ca1ab1-5424-4006-b7f5-54dfdd9d2bde",
   "metadata": {},
   "outputs": [
    {
     "name": "stdin",
     "output_type": "stream",
     "text": [
      "Enter a character:  g\n"
     ]
    },
    {
     "name": "stdout",
     "output_type": "stream",
     "text": [
      "Consonant\n"
     ]
    }
   ],
   "source": [
    "char = str(input(\"Enter a character: \"))\n",
    "vowels=[\"a\",\"e\",\"i\",\"o\",\"u\"]\n",
    "if char in vowels:\n",
    "    print(\"Vowel\")\n",
    "else:\n",
    "    print(\"Consonant\")\n"
   ]
  },
  {
   "cell_type": "raw",
   "id": "e5f468f4-5c8a-480d-a395-5a1c9e2dcf65",
   "metadata": {},
   "source": [
    "13. Write a program that prompts the user to input a year and determine whether the\n",
    "year is a leap year or not.\n",
    "Leap Years are any year that can be evenly divided by 4. A year that is evenly divisible by\n",
    "100 is a leap year only if it is also evenly divisible by 400. Example:\n",
    "1992 Leap Year\n",
    "2000 Leap Year\n",
    "1900 NOT a Leap Year\n",
    "1995 NOT a Leap Year"
   ]
  },
  {
   "cell_type": "code",
   "execution_count": 35,
   "id": "f4101936-6310-42dc-90ee-5403d64b7cc0",
   "metadata": {},
   "outputs": [
    {
     "name": "stdin",
     "output_type": "stream",
     "text": [
      "Enter a year:  2000\n"
     ]
    },
    {
     "name": "stdout",
     "output_type": "stream",
     "text": [
      "It is a leap year\n"
     ]
    }
   ],
   "source": [
    "year = int(input(\"Enter a year: \"))\n",
    "if year % 4 == 0: \n",
    "    if year % 100 == 0:\n",
    "        if year % 400 == 0:\n",
    "            print(\"It is a leap year\")\n",
    "        else:\n",
    "            print(\"It is not a leap year\")\n",
    "    else:\n",
    "        print(\"It is not a leap year\")\n",
    "else:\n",
    "    print(\"It is not a leap year\")\n"
   ]
  },
  {
   "cell_type": "raw",
   "id": "ecc15d80-5869-4732-822c-02c624c1308a",
   "metadata": {},
   "source": [
    "14. Write a program that prompts the user to input number of calls and calculate the\n",
    "monthly telephone bills as per the following rule:\n",
    "Minimum Rs. 200 for up to 100 calls.\n",
    "Plus Rs. 0.60 per call for next 50 calls.\n",
    "Plus Rs. 0.50 per call for next 50 calls.\n",
    "Plus Rs. 0.40 per call for any call beyond 200 calls"
   ]
  },
  {
   "cell_type": "code",
   "execution_count": 39,
   "id": "ca49982c-3334-4c4e-92ff-f5ce58cc0308",
   "metadata": {},
   "outputs": [
    {
     "name": "stdin",
     "output_type": "stream",
     "text": [
      "Enter the number of calls made:  201\n"
     ]
    },
    {
     "name": "stdout",
     "output_type": "stream",
     "text": [
      "Your bill is 300.5\n"
     ]
    }
   ],
   "source": [
    "calls = int(input(\"Enter the number of calls made: \"))\n",
    "bill = 200\n",
    "if calls <= 100:\n",
    "    print(f\"Your bill is {bill}\")\n",
    "elif 100 < calls <= 150:\n",
    "    charge = (calls-100)*0.60\n",
    "    print(f\"Your bill is {bill + charge}\")\n",
    "elif 150< calls <= 200:\n",
    "    charge = (calls-100)*0.50\n",
    "    print(f\"Your bill is {bill + charge}\")\n",
    "else:\n",
    "    charge = (calls)*0.50\n",
    "    print(f\"Your bill is {bill + charge}\")\n"
   ]
  },
  {
   "cell_type": "markdown",
   "id": "2bc24f72-0419-4a0a-b56f-03e31e59373c",
   "metadata": {},
   "source": [
    "# *THE END!*"
   ]
  }
 ],
 "metadata": {
  "kernelspec": {
   "display_name": "Python 3 (ipykernel)",
   "language": "python",
   "name": "python3"
  },
  "language_info": {
   "codemirror_mode": {
    "name": "ipython",
    "version": 3
   },
   "file_extension": ".py",
   "mimetype": "text/x-python",
   "name": "python",
   "nbconvert_exporter": "python",
   "pygments_lexer": "ipython3",
   "version": "3.12.7"
  }
 },
 "nbformat": 4,
 "nbformat_minor": 5
}
