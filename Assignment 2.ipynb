{
 "cells": [
  {
   "cell_type": "markdown",
   "id": "6f8970f5-ec45-44c5-bf93-79d3920dd62f",
   "metadata": {},
   "source": [
    "# Name:Zubair Malik,   Assignment 2:\n"
   ]
  },
  {
   "cell_type": "markdown",
   "id": "1bdc650f-9f98-4109-a0b7-ee9cc90fc61d",
   "metadata": {},
   "source": [
    "### 1. Area of a Rectangle:\n",
    "   -  Write a Python program to calculate the area of a rectangle. Use the formula:"
   ]
  },
  {
   "cell_type": "code",
   "execution_count": 41,
   "id": "bcb13a05-6b80-463c-bc85-97a6ba495f3f",
   "metadata": {},
   "outputs": [
    {
     "name": "stdin",
     "output_type": "stream",
     "text": [
      "Enter Length: 10\n",
      "Enter Width: 12\n"
     ]
    },
    {
     "name": "stdout",
     "output_type": "stream",
     "text": [
      "The Area Of The Rectangle is: 120\n"
     ]
    }
   ],
   "source": [
    "length = int(input(\"Enter Length:\"))\n",
    "width = int(input(\"Enter Width:\"))\n",
    "\n",
    "area = length*width\n",
    "print(f\"The Area Of The Rectangle is: {area}\")"
   ]
  },
  {
   "cell_type": "markdown",
   "id": "7fcd0edb-c765-4b79-991a-a2b84664a492",
   "metadata": {},
   "source": [
    "### 2. Circumference of a Circle:\n",
    "   - Write a Python program to calculate the circumference of a circle. Use the formula:"
   ]
  },
  {
   "cell_type": "code",
   "execution_count": 2,
   "id": "b68861df-94f7-4dc4-9af5-712119aad1d5",
   "metadata": {},
   "outputs": [
    {
     "name": "stdin",
     "output_type": "stream",
     "text": [
      "Enter radius: 8\n"
     ]
    },
    {
     "data": {
      "text/plain": [
       "50.272"
      ]
     },
     "execution_count": 2,
     "metadata": {},
     "output_type": "execute_result"
    }
   ],
   "source": [
    "radius = int(input(\"Enter radius:\"))\n",
    "pi=3.142\n",
    "circumference =2*pi*radius\n",
    "circumference"
   ]
  },
  {
   "cell_type": "markdown",
   "id": "ccd9f6f7-f93c-45fc-940d-6e3b94f9936c",
   "metadata": {},
   "source": [
    "### 3. Simple Interest:\n",
    "   - Write a Python program to calculate the simple interest. Use the formula: "
   ]
  },
  {
   "cell_type": "code",
   "execution_count": 4,
   "id": "7d468209-321e-433f-8fa5-dc428410e1c8",
   "metadata": {},
   "outputs": [
    {
     "name": "stdin",
     "output_type": "stream",
     "text": [
      "Enter Principal Number: 9\n",
      "Enter Rate Number: 4\n",
      "Enter Time: 10\n"
     ]
    },
    {
     "data": {
      "text/plain": [
       "360"
      ]
     },
     "execution_count": 4,
     "metadata": {},
     "output_type": "execute_result"
    }
   ],
   "source": [
    "principal = int(input(\"Enter Principal Number:\"))\n",
    "rate =int(input(\"Enter Rate Number:\"))\n",
    "time =int(input(\"Enter Time:\"))\n",
    "\n",
    "simple_interest = principal*rate*time\n",
    "simple_interest"
   ]
  },
  {
   "cell_type": "markdown",
   "id": "37a39fe6-a0db-4e08-90a7-d7a2db9cc80c",
   "metadata": {},
   "source": [
    "### 4. Speed of an Object:\n",
    "   - Write a Python program to calculate the speed of an object. Use the formula: "
   ]
  },
  {
   "cell_type": "code",
   "execution_count": 7,
   "id": "fbe1771f-2246-4dfb-83f3-502744d1037c",
   "metadata": {},
   "outputs": [
    {
     "name": "stdin",
     "output_type": "stream",
     "text": [
      "Enter Distance: 20\n",
      "Enter Time: 16\n"
     ]
    },
    {
     "data": {
      "text/plain": [
       "1.25"
      ]
     },
     "execution_count": 7,
     "metadata": {},
     "output_type": "execute_result"
    }
   ],
   "source": [
    "distance = int(input(\"Enter Distance:\"))\n",
    "time = int(input(\"Enter Time:\"))\n",
    "speed = distance/time\n",
    "speed"
   ]
  },
  {
   "cell_type": "markdown",
   "id": "28c067b8-b292-4d0b-a9ab-f007b0658525",
   "metadata": {},
   "source": [
    "### 5. BMI Calculator:\n",
    "   - Write a Python program to calculate the Body Mass Index (BMI). Use the formula: "
   ]
  },
  {
   "cell_type": "code",
   "execution_count": 11,
   "id": "61af8e09-c0d6-4914-88b0-f096c5c63ed5",
   "metadata": {},
   "outputs": [
    {
     "name": "stdin",
     "output_type": "stream",
     "text": [
      "Enter In weight 60\n",
      "Enter The Height: 5.4\n"
     ]
    },
    {
     "data": {
      "text/plain": [
       "29.160000000000004"
      ]
     },
     "execution_count": 11,
     "metadata": {},
     "output_type": "execute_result"
    }
   ],
   "source": [
    "weight = int(input(\"Enter In weight\"))\n",
    "height = float(input(\"Enter The Height:\"))\n",
    "sq_height = height**2\n",
    "sq_height"
   ]
  },
  {
   "cell_type": "markdown",
   "id": "0d0fcbc5-3ae5-42c7-8c7c-1042247fdc73",
   "metadata": {},
   "source": [
    "### 6. Force Using Newton's Second Law:\n",
    "   - Write a Python program to calculate the force on an object. Use the formula: "
   ]
  },
  {
   "cell_type": "code",
   "execution_count": 13,
   "id": "764ec0ab-d72e-4b15-8958-91a4bac15563",
   "metadata": {},
   "outputs": [
    {
     "name": "stdin",
     "output_type": "stream",
     "text": [
      "Enter Mass: 50\n",
      "Enter Acceleration: 20\n"
     ]
    },
    {
     "data": {
      "text/plain": [
       "1000"
      ]
     },
     "execution_count": 13,
     "metadata": {},
     "output_type": "execute_result"
    }
   ],
   "source": [
    "m = int(input(\"Enter Mass:\"))\n",
    "a = int(input(\"Enter Acceleration:\"))\n",
    "force = m*a\n",
    "force"
   ]
  },
  {
   "cell_type": "markdown",
   "id": "5c0cb481-0dfb-4cdc-bdd0-8f1cf4194153",
   "metadata": {},
   "source": [
    "### 7. Compound Interest:\n",
    "   - Write a Python program to calculate compound interest. Use the formula: "
   ]
  },
  {
   "cell_type": "code",
   "execution_count": 16,
   "id": "29275302-247d-4777-9c17-cfbc02434902",
   "metadata": {},
   "outputs": [
    {
     "name": "stdin",
     "output_type": "stream",
     "text": [
      "Enter Principal Amount: 20\n",
      "Enter Annual Interest Rate: 10\n",
      "Enter Number Of Time Interest Is Compounded Per Year: 2\n",
      "Enter Time In Years: 3\n"
     ]
    },
    {
     "data": {
      "text/plain": [
       "717.0"
      ]
     },
     "execution_count": 16,
     "metadata": {},
     "output_type": "execute_result"
    }
   ],
   "source": [
    "p = float(input(\"Enter Principal Amount:\"))\n",
    "r = float(input(\"Enter Annual Interest Rate:\"))\n",
    "n = float(input(\"Enter Number Of Time Interest Is Compounded Per Year:\"))\n",
    "t = float(input(\"Enter Time In Years:\"))\n",
    "\n",
    "A =p*(1+r/n)**n-t\n",
    "A"
   ]
  },
  {
   "cell_type": "markdown",
   "id": "6be606b0-1a4f-4741-b05e-56c79b90b8c5",
   "metadata": {},
   "source": [
    "### 8. Perimeter of a Triangle:\n",
    "   - Write a Python program to calculate the perimeter of a triangle. Use the formula:"
   ]
  },
  {
   "cell_type": "code",
   "execution_count": 18,
   "id": "895a6351-cbec-4a70-a2d7-0e2334d18d13",
   "metadata": {},
   "outputs": [
    {
     "name": "stdin",
     "output_type": "stream",
     "text": [
      "Enter Length_1: 30\n",
      "Enter Length_2: 20\n",
      "Enter Length_3: 15.5\n"
     ]
    },
    {
     "data": {
      "text/plain": [
       "65.5"
      ]
     },
     "execution_count": 18,
     "metadata": {},
     "output_type": "execute_result"
    }
   ],
   "source": [
    "a = float(input(\"Enter Length_1:\"))\n",
    "b = float(input(\"Enter Length_2:\"))\n",
    "c = float(input(\"Enter Length_3:\"))\n",
    "\n",
    "perimeter = a+b+c\n",
    "perimeter"
   ]
  },
  {
   "cell_type": "markdown",
   "id": "e1144d26-aa96-46ce-8e22-e9dc901b6175",
   "metadata": {},
   "source": [
    "### 9. Volume of a Sphere:\n",
    "   - Write a Python program to calculate the volume of a sphere. Use the formula:"
   ]
  },
  {
   "cell_type": "code",
   "execution_count": 23,
   "id": "3f0cbd20-cb9c-49ca-a405-af78d9f4be9e",
   "metadata": {},
   "outputs": [
    {
     "name": "stdin",
     "output_type": "stream",
     "text": [
      "Enter Radius: 15\n"
     ]
    },
    {
     "data": {
      "text/plain": [
       "14138.999999999998"
      ]
     },
     "execution_count": 23,
     "metadata": {},
     "output_type": "execute_result"
    }
   ],
   "source": [
    "r = float(input(\"Enter Radius:\"))\n",
    "\n",
    "volume = 4/3*(3.1420)*r**3\n",
    "volume"
   ]
  },
  {
   "cell_type": "markdown",
   "id": "8078f022-9b78-4243-a4f4-75dba6227ed7",
   "metadata": {},
   "source": [
    "### 10. Kinetic Energy:\n",
    "   - Write a Python program to calculate the kinetic energy of an object. Use the formula: "
   ]
  },
  {
   "cell_type": "code",
   "execution_count": 25,
   "id": "869f824d-74b3-4995-84e9-d33d73c50d02",
   "metadata": {},
   "outputs": [
    {
     "name": "stdin",
     "output_type": "stream",
     "text": [
      "Enter Mass In KG: 15.5\n",
      "Enter Velocity In m/s: 100\n"
     ]
    },
    {
     "data": {
      "text/plain": [
       "77500.0"
      ]
     },
     "execution_count": 25,
     "metadata": {},
     "output_type": "execute_result"
    }
   ],
   "source": [
    "m = float(input(\"Enter Mass In KG:\"))\n",
    "v = float(input(\"Enter Velocity In m/s:\"))\n",
    "\n",
    "KE = 1/2*m*v**2\n",
    "KE"
   ]
  },
  {
   "cell_type": "markdown",
   "id": "6b676f26-2b99-4e83-86bd-a2013938f331",
   "metadata": {},
   "source": [
    "### 11. Quadratic Equation Roots:\n",
    "   - Write a Python program to find the roots of a quadratic equation. Use the formula: "
   ]
  },
  {
   "cell_type": "code",
   "execution_count": null,
   "id": "21862f19-bce4-4414-b223-168a0a69beeb",
   "metadata": {},
   "outputs": [],
   "source": [
    "a = float(input(\"Enter Value_1:\"))\n",
    "b = float(input(\"Enter Value_2:\"))\n",
    "c = float(input(\"Enter Value_3:\"))"
   ]
  },
  {
   "cell_type": "code",
   "execution_count": null,
   "id": "2a56bc47-2ae3-4e2b-a098-a9261f892f1c",
   "metadata": {},
   "outputs": [],
   "source": [
    "y = (b**2-4*a*c)\n",
    "y"
   ]
  },
  {
   "cell_type": "code",
   "execution_count": null,
   "id": "5e496be2-d811-4329-8903-494e67e051e0",
   "metadata": {},
   "outputs": [],
   "source": [
    "z = y**1/2\n",
    "z"
   ]
  },
  {
   "cell_type": "code",
   "execution_count": null,
   "id": "83b59768-be3a-4376-974c-0a4ece98c58a",
   "metadata": {},
   "outputs": [],
   "source": [
    "X1 = b+z/2*a\n",
    "X1"
   ]
  },
  {
   "cell_type": "code",
   "execution_count": null,
   "id": "2691b9de-6465-461c-9423-af3b3c74e911",
   "metadata": {},
   "outputs": [],
   "source": [
    "X2  =-b-z/2*a\n",
    "X2"
   ]
  },
  {
   "cell_type": "markdown",
   "id": "5ca37877-2753-43de-b0b7-c76d304fbd34",
   "metadata": {},
   "source": [
    "### 12. Temperature Conversion:\n",
    "   - Write a Python program to convert a temperature from Celsius to Fahrenheit. Use the\n",
    "formula: "
   ]
  },
  {
   "cell_type": "code",
   "execution_count": 9,
   "id": "6f5ec161-56a0-4963-ad1b-f82b6c4f34e6",
   "metadata": {},
   "outputs": [
    {
     "name": "stdin",
     "output_type": "stream",
     "text": [
      "Enter Temoerature: 50\n"
     ]
    },
    {
     "data": {
      "text/plain": [
       "122.0"
      ]
     },
     "execution_count": 9,
     "metadata": {},
     "output_type": "execute_result"
    }
   ],
   "source": [
    "C = float(input(\"Enter Temoerature:\"))\n",
    "\n",
    "F = 9/5*C+32\n",
    "F"
   ]
  },
  {
   "cell_type": "markdown",
   "id": "00551ca6-a0f3-4e65-8037-86468f62e178",
   "metadata": {},
   "source": [
    "### 13. Gravitational Force:\n",
    "   - Write a Python program to calculate the gravitational force between two objects. Use\n",
    "the formula:"
   ]
  },
  {
   "cell_type": "code",
   "execution_count": 13,
   "id": "c730d6ff-3519-4d14-ba3e-7c0d05dbc466",
   "metadata": {},
   "outputs": [
    {
     "name": "stdin",
     "output_type": "stream",
     "text": [
      "Enter mass_1: 5\n",
      "Enter mass_2: 10\n",
      "Enter radius: 3\n"
     ]
    },
    {
     "data": {
      "text/plain": [
       "5.555555555555555"
      ]
     },
     "execution_count": 13,
     "metadata": {},
     "output_type": "execute_result"
    }
   ],
   "source": [
    "m1 = float(input(\"Enter mass_1:\"))\n",
    "m2 = float(input(\"Enter mass_2:\"))\n",
    "r = float(input(\"Enter radius:\"))\n",
    "\n",
    "a = m1*m2/r**2\n",
    "a"
   ]
  },
  {
   "cell_type": "code",
   "execution_count": 14,
   "id": "c6f61d99-1962-4da3-8696-0dbef106df5c",
   "metadata": {},
   "outputs": [
    {
     "data": {
      "text/plain": [
       "3.7077777777777776e-10"
      ]
     },
     "execution_count": 14,
     "metadata": {},
     "output_type": "execute_result"
    }
   ],
   "source": [
    "F = (6.674*10**-11)*a\n",
    "F"
   ]
  },
  {
   "cell_type": "markdown",
   "id": "a08a5ddd-a7c3-487e-b76a-234711d8cef5",
   "metadata": {},
   "source": [
    "### 14. Volume of a Cylinder:\n",
    "   - Write a Python program to calculate the volume of a cylinder. Use the formula:"
   ]
  },
  {
   "cell_type": "code",
   "execution_count": 18,
   "id": "a364acc0-7306-4406-9ed8-6b31aea3e1c4",
   "metadata": {},
   "outputs": [
    {
     "name": "stdin",
     "output_type": "stream",
     "text": [
      "Enter Radius: 2.5\n",
      "Enter Height: 12\n"
     ]
    },
    {
     "data": {
      "text/plain": [
       "235.64999999999998"
      ]
     },
     "execution_count": 18,
     "metadata": {},
     "output_type": "execute_result"
    }
   ],
   "source": [
    "r = float(input(\"Enter Radius:\"))\n",
    "h = float(input(\"Enter Height:\"))\n",
    "\n",
    "volume =(3.142)*(r**2)*(h)\n",
    "volume"
   ]
  },
  {
   "cell_type": "markdown",
   "id": "36ffb35d-157e-4393-be0f-50a299dd3477",
   "metadata": {},
   "source": [
    "### 15. Pressure:\n",
    "   - Write a Python program to calculate the pressure exerted by a force on a surface. Use\n",
    "the formula: "
   ]
  },
  {
   "cell_type": "code",
   "execution_count": 22,
   "id": "09004649-5938-45d4-a9e7-9ea1284d9b44",
   "metadata": {},
   "outputs": [
    {
     "name": "stdin",
     "output_type": "stream",
     "text": [
      "Enter Force: 30\n",
      "Enter Area: 20\n"
     ]
    },
    {
     "data": {
      "text/plain": [
       "1.5"
      ]
     },
     "execution_count": 22,
     "metadata": {},
     "output_type": "execute_result"
    }
   ],
   "source": [
    "f = float(input(\"Enter Force:\"))\n",
    "A = float(input(\"Enter Area:\"))\n",
    "\n",
    "p = f/A\n",
    "p"
   ]
  },
  {
   "cell_type": "markdown",
   "id": "a95eb255-02a5-46a9-8d77-5698eb947e2b",
   "metadata": {},
   "source": [
    "### 16. Electric Power:\n",
    "   - Write a Python program to calculate the electric power consumed. Use the formula: "
   ]
  },
  {
   "cell_type": "code",
   "execution_count": 28,
   "id": "e4bcc562-609f-4d43-a0c5-11f24369ca30",
   "metadata": {},
   "outputs": [
    {
     "name": "stdin",
     "output_type": "stream",
     "text": [
      "Enter Votage: 50\n",
      "Enter Current: 4.5\n"
     ]
    },
    {
     "data": {
      "text/plain": [
       "11.11111111111111"
      ]
     },
     "execution_count": 28,
     "metadata": {},
     "output_type": "execute_result"
    }
   ],
   "source": [
    "V = float(input(\"Enter Votage:\"))\n",
    "I = float(input(\"Enter Current:\"))\n",
    "\n",
    "P = V/I\n",
    "P"
   ]
  },
  {
   "cell_type": "markdown",
   "id": "1ea14f4c-66b7-4c5b-bd27-ba6b27abeb32",
   "metadata": {},
   "source": [
    "### 17. Perimeter of a Circle (Circumference):\n",
    "   - Write a Python program to calculate the perimeter (circumference) of a circle. Use the\n",
    "formula: \n"
   ]
  },
  {
   "cell_type": "code",
   "execution_count": 32,
   "id": "4947fde7-2a6d-4a48-8f9f-25d3e09f759a",
   "metadata": {},
   "outputs": [
    {
     "name": "stdin",
     "output_type": "stream",
     "text": [
      "Enter radius: 40\n"
     ]
    },
    {
     "data": {
      "text/plain": [
       "251.35999999999999"
      ]
     },
     "execution_count": 32,
     "metadata": {},
     "output_type": "execute_result"
    }
   ],
   "source": [
    "r = float(input(\"Enter radius:\"))\n",
    "\n",
    "P = 2*3.142*r\n",
    "P"
   ]
  },
  {
   "cell_type": "markdown",
   "id": "3dfd099f-70fb-4575-b145-6eb74fd1d1d4",
   "metadata": {},
   "source": [
    "### 18. Future Value in Savings:\n",
    "   - Write a Python program to calculate the future value of an investment. Use the formula:"
   ]
  },
  {
   "cell_type": "code",
   "execution_count": 35,
   "id": "f1507740-7719-462c-9434-b84b0fe82b96",
   "metadata": {},
   "outputs": [
    {
     "name": "stdin",
     "output_type": "stream",
     "text": [
      "Enter Present Value: 500\n",
      "Enter Annual Interest Rate: 10\n",
      "Enter Time In Years: 3\n"
     ]
    },
    {
     "data": {
      "text/plain": [
       "665500.0"
      ]
     },
     "execution_count": 35,
     "metadata": {},
     "output_type": "execute_result"
    }
   ],
   "source": [
    "PV = float(input(\"Enter Present Value:\"))\n",
    "r = float(input(\"Enter Annual Interest Rate:\"))\n",
    "t = float(input(\"Enter Time In Years:\"))\n",
    "\n",
    "FV = PV*(1+r)**t\n",
    "FV"
   ]
  },
  {
   "cell_type": "markdown",
   "id": "b4cbf438-feb1-456f-8e85-8449e137b656",
   "metadata": {},
   "source": [
    "### 19. Work Done by a Force:\n",
    "   - Write a Python program to calculate the work done by a force. Use the formula: "
   ]
  },
  {
   "cell_type": "code",
   "execution_count": 37,
   "id": "2be501b0-0d8d-4ade-8842-554f0be196c2",
   "metadata": {},
   "outputs": [
    {
     "name": "stdin",
     "output_type": "stream",
     "text": [
      "Enter Force: 25\n",
      "Enter Total Distance: 30\n",
      "Enter Angle: 90\n"
     ]
    },
    {
     "data": {
      "text/plain": [
       "525.0"
      ]
     },
     "execution_count": 37,
     "metadata": {},
     "output_type": "execute_result"
    }
   ],
   "source": [
    "f = float(input(\"Enter Force:\"))\n",
    "d = float(input(\"Enter Total Distance:\"))\n",
    "theta = float(input(\"Enter Angle:\"))\n",
    "\n",
    "W = f*d*(0.70)\n",
    "W"
   ]
  },
  {
   "cell_type": "markdown",
   "id": "f307ed97-081f-4650-a721-7c04a6adfd74",
   "metadata": {},
   "source": [
    "### 20. Heat Transfer:\n",
    "   - Write a Python program to calculate the amount of heat transferred. Use the formula:"
   ]
  },
  {
   "cell_type": "code",
   "execution_count": 39,
   "id": "a44daf67-1269-42b7-85df-818f48157046",
   "metadata": {},
   "outputs": [
    {
     "name": "stdin",
     "output_type": "stream",
     "text": [
      "Enter Mass: 30\n",
      "Enter Heat Capacity: 55.5\n",
      "Enter Temperature_1: 120\n",
      "Enter Temperature_2: 150\n"
     ]
    },
    {
     "data": {
      "text/plain": [
       "49950.0"
      ]
     },
     "execution_count": 39,
     "metadata": {},
     "output_type": "execute_result"
    }
   ],
   "source": [
    "m = float(input(\"Enter Mass:\"))\n",
    "c = float(input(\"Enter Heat Capacity:\"))\n",
    "\n",
    "T1 = float(input(\"Enter Temperature_1:\"))\n",
    "T2 = float(input(\"Enter Temperature_2:\"))\n",
    "\n",
    "Q = m*c*(T2-T1)\n",
    "Q"
   ]
  },
  {
   "cell_type": "markdown",
   "id": "b4f9f54e-28a5-4d52-b93a-0368fd2e3be5",
   "metadata": {},
   "source": [
    "# *THE END*"
   ]
  }
 ],
 "metadata": {
  "kernelspec": {
   "display_name": "Python 3 (ipykernel)",
   "language": "python",
   "name": "python3"
  },
  "language_info": {
   "codemirror_mode": {
    "name": "ipython",
    "version": 3
   },
   "file_extension": ".py",
   "mimetype": "text/x-python",
   "name": "python",
   "nbconvert_exporter": "python",
   "pygments_lexer": "ipython3",
   "version": "3.12.7"
  }
 },
 "nbformat": 4,
 "nbformat_minor": 5
}
